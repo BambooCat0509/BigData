{
  "nbformat": 4,
  "nbformat_minor": 0,
  "metadata": {
    "colab": {
      "name": "Assessment-1.ipynb",
      "provenance": [],
      "collapsed_sections": [],
      "include_colab_link": true
    },
    "kernelspec": {
      "name": "ir",
      "display_name": "R"
    }
  },
  "cells": [
    {
      "cell_type": "markdown",
      "metadata": {
        "id": "view-in-github",
        "colab_type": "text"
      },
      "source": [
        "<a href=\"https://colab.research.google.com/github/BambooCat0509/BigData/blob/main/Assessment_1.ipynb\" target=\"_parent\"><img src=\"https://colab.research.google.com/assets/colab-badge.svg\" alt=\"Open In Colab\"/></a>"
      ]
    },
    {
      "cell_type": "code",
      "metadata": {
        "id": "fDybfOnsePUs",
        "outputId": "8c6e6fa6-488d-4335-f3a4-96159112782a",
        "colab": {
          "base_uri": "https://localhost:8080/",
          "height": 34
        }
      },
      "source": [
        "class(0971305988)"
      ],
      "execution_count": null,
      "outputs": [
        {
          "output_type": "display_data",
          "data": {
            "text/plain": [
              "[1] \"numeric\""
            ],
            "text/latex": "'numeric'",
            "text/markdown": "'numeric'",
            "text/html": [
              "'numeric'"
            ]
          },
          "metadata": {
            "tags": []
          }
        }
      ]
    },
    {
      "cell_type": "code",
      "metadata": {
        "id": "rtz_VdCheScQ",
        "outputId": "7656e033-d389-40ff-9ba0-eac68ddf9a26",
        "colab": {
          "base_uri": "https://localhost:8080/",
          "height": 34
        }
      },
      "source": [
        "class(\"HELLO\")"
      ],
      "execution_count": null,
      "outputs": [
        {
          "output_type": "display_data",
          "data": {
            "text/plain": [
              "[1] \"character\""
            ],
            "text/latex": "'character'",
            "text/markdown": "'character'",
            "text/html": [
              "'character'"
            ]
          },
          "metadata": {
            "tags": []
          }
        }
      ]
    },
    {
      "cell_type": "code",
      "metadata": {
        "id": "w2Adf0IffIgr",
        "outputId": "9880c706-3902-4018-9e8b-757010b57492",
        "colab": {
          "base_uri": "https://localhost:8080/",
          "height": 34
        }
      },
      "source": [
        "13+14"
      ],
      "execution_count": null,
      "outputs": [
        {
          "output_type": "display_data",
          "data": {
            "text/plain": [
              "[1] 27"
            ],
            "text/latex": "27",
            "text/markdown": "27",
            "text/html": [
              "27"
            ]
          },
          "metadata": {
            "tags": []
          }
        }
      ]
    },
    {
      "cell_type": "code",
      "metadata": {
        "id": "-M9MM6g6fKWV"
      },
      "source": [
        "my_H<-170"
      ],
      "execution_count": null,
      "outputs": []
    },
    {
      "cell_type": "code",
      "metadata": {
        "id": "mdFqViUMfMLz"
      },
      "source": [
        "my_W<-60"
      ],
      "execution_count": null,
      "outputs": []
    },
    {
      "cell_type": "code",
      "metadata": {
        "id": "HMAEDZDHfPMq"
      },
      "source": [
        "first_name<- \"Kaisiang\""
      ],
      "execution_count": null,
      "outputs": []
    },
    {
      "cell_type": "code",
      "metadata": {
        "id": "ay3k0BRofRhz",
        "outputId": "9e095853-5386-42dc-9a49-8ba386966366",
        "colab": {
          "base_uri": "https://localhost:8080/",
          "height": 34
        }
      },
      "source": [
        "my_W/(my_H/100)^2"
      ],
      "execution_count": null,
      "outputs": [
        {
          "output_type": "display_data",
          "data": {
            "text/plain": [
              "[1] 20.76125"
            ],
            "text/latex": "20.7612456747405",
            "text/markdown": "20.7612456747405",
            "text/html": [
              "20.7612456747405"
            ]
          },
          "metadata": {
            "tags": []
          }
        }
      ]
    },
    {
      "cell_type": "code",
      "metadata": {
        "id": "kIFTHbG2fT2J",
        "outputId": "fb639f47-1a03-4433-d18f-e59262e28ce7",
        "colab": {
          "base_uri": "https://localhost:8080/",
          "height": 34
        }
      },
      "source": [
        "paste(\"I am\",first_name,\".My weight is \",my_W,\"kilograms.I am \",(my_H/100),\"meters tall.My BMI is \",my_W/(my_H/100)^2,\".\" )"
      ],
      "execution_count": null,
      "outputs": [
        {
          "output_type": "display_data",
          "data": {
            "text/plain": [
              "[1] \"I am Kaisiang .My weight is  60 kilograms.I am  1.7 meters tall.My BMI is  20.7612456747405 .\""
            ],
            "text/latex": "'I am Kaisiang .My weight is  60 kilograms.I am  1.7 meters tall.My BMI is  20.7612456747405 .'",
            "text/markdown": "<span style=white-space:pre-wrap>'I am Kaisiang .My weight is  60 kilograms.I am  1.7 meters tall.My BMI is  20.7612456747405 .'</span>",
            "text/html": [
              "<span style=white-space:pre-wrap>'I am Kaisiang .My weight is  60 kilograms.I am  1.7 meters tall.My BMI is  20.7612456747405 .'</span>"
            ]
          },
          "metadata": {
            "tags": []
          }
        }
      ]
    }
  ]
}
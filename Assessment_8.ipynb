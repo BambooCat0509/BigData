{
  "nbformat": 4,
  "nbformat_minor": 0,
  "metadata": {
    "colab": {
      "name": "Assessment_8.ipynb",
      "provenance": [],
      "collapsed_sections": [],
      "include_colab_link": true
    },
    "kernelspec": {
      "name": "ir",
      "display_name": "R"
    }
  },
  "cells": [
    {
      "cell_type": "markdown",
      "metadata": {
        "id": "view-in-github",
        "colab_type": "text"
      },
      "source": [
        "<a href=\"https://colab.research.google.com/github/BambooCat0509/BigData/blob/main/Assessment_8.ipynb\" target=\"_parent\"><img src=\"https://colab.research.google.com/assets/colab-badge.svg\" alt=\"Open In Colab\"/></a>"
      ]
    },
    {
      "cell_type": "code",
      "metadata": {
        "id": "QG0VC4gznK83",
        "outputId": "20fb857a-da69-4031-c10b-65c6d084a3b8",
        "colab": {
          "base_uri": "https://localhost:8080/"
        }
      },
      "source": [
        "install.packages(\"rJava\")"
      ],
      "execution_count": 2,
      "outputs": [
        {
          "output_type": "stream",
          "text": [
            "Installing package into ‘/usr/local/lib/R/site-library’\n",
            "(as ‘lib’ is unspecified)\n",
            "\n"
          ],
          "name": "stderr"
        }
      ]
    },
    {
      "cell_type": "code",
      "metadata": {
        "id": "Yv8NrPzFnNdu",
        "outputId": "82542bbf-bb69-41f6-f822-b91addbe54fd",
        "colab": {
          "base_uri": "https://localhost:8080/"
        }
      },
      "source": [
        "install.packages(\"jiebaR\")"
      ],
      "execution_count": 3,
      "outputs": [
        {
          "output_type": "stream",
          "text": [
            "Installing package into ‘/usr/local/lib/R/site-library’\n",
            "(as ‘lib’ is unspecified)\n",
            "\n",
            "also installing the dependency ‘jiebaRD’\n",
            "\n",
            "\n"
          ],
          "name": "stderr"
        }
      ]
    },
    {
      "cell_type": "code",
      "metadata": {
        "id": "Ln2TeMmmnQXZ",
        "outputId": "a852b9b4-56be-4b3e-a7e7-8966b98677de",
        "colab": {
          "base_uri": "https://localhost:8080/"
        }
      },
      "source": [
        "install.packages(\"tmcn\")"
      ],
      "execution_count": 4,
      "outputs": [
        {
          "output_type": "stream",
          "text": [
            "Installing package into ‘/usr/local/lib/R/site-library’\n",
            "(as ‘lib’ is unspecified)\n",
            "\n"
          ],
          "name": "stderr"
        }
      ]
    },
    {
      "cell_type": "code",
      "metadata": {
        "id": "QbNZxcG9nRkx",
        "outputId": "8bc4d5af-b0be-4b15-8b5e-938b35f53b06",
        "colab": {
          "base_uri": "https://localhost:8080/"
        }
      },
      "source": [
        "install.packages(\"dplyr\")"
      ],
      "execution_count": 5,
      "outputs": [
        {
          "output_type": "stream",
          "text": [
            "Installing package into ‘/usr/local/lib/R/site-library’\n",
            "(as ‘lib’ is unspecified)\n",
            "\n"
          ],
          "name": "stderr"
        }
      ]
    },
    {
      "cell_type": "code",
      "metadata": {
        "id": "ChuWEH5DnTGm",
        "outputId": "447ebd13-9920-413d-91ce-619675bf255b",
        "colab": {
          "base_uri": "https://localhost:8080/"
        }
      },
      "source": [
        "install.packages(\"lubridate\")"
      ],
      "execution_count": 6,
      "outputs": [
        {
          "output_type": "stream",
          "text": [
            "Installing package into ‘/usr/local/lib/R/site-library’\n",
            "(as ‘lib’ is unspecified)\n",
            "\n"
          ],
          "name": "stderr"
        }
      ]
    },
    {
      "cell_type": "code",
      "metadata": {
        "id": "UAsGbyNGnUm_",
        "outputId": "0e7c2a9d-a29c-43d9-a09b-c3dd9e2a3bb1",
        "colab": {
          "base_uri": "https://localhost:8080/"
        }
      },
      "source": [
        "install.packages(\"sringr\")"
      ],
      "execution_count": 7,
      "outputs": [
        {
          "output_type": "stream",
          "text": [
            "Installing package into ‘/usr/local/lib/R/site-library’\n",
            "(as ‘lib’ is unspecified)\n",
            "\n",
            "Warning message:\n",
            "“package ‘sringr’ is not available for this version of R\n",
            "\n",
            "A version of this package for your version of R might be available elsewhere,\n",
            "see the ideas at\n",
            "https://cran.r-project.org/doc/manuals/r-patched/R-admin.html#Installing-packages”\n"
          ],
          "name": "stderr"
        }
      ]
    },
    {
      "cell_type": "code",
      "metadata": {
        "id": "ALOEbjl6nd8I",
        "outputId": "496f8c2f-e159-4de1-dbe7-019649053376",
        "colab": {
          "base_uri": "https://localhost:8080/"
        }
      },
      "source": [
        "install.packages(\"showtext\")"
      ],
      "execution_count": 8,
      "outputs": [
        {
          "output_type": "stream",
          "text": [
            "Installing package into ‘/usr/local/lib/R/site-library’\n",
            "(as ‘lib’ is unspecified)\n",
            "\n",
            "also installing the dependencies ‘sysfonts’, ‘showtextdb’\n",
            "\n",
            "\n"
          ],
          "name": "stderr"
        }
      ]
    },
    {
      "cell_type": "code",
      "metadata": {
        "id": "Odf2uOzmnWWQ",
        "outputId": "53a415a2-be8a-4a18-b276-7d5ca303531a",
        "colab": {
          "base_uri": "https://localhost:8080/"
        }
      },
      "source": [
        "install.packages(\"wordcloud\")"
      ],
      "execution_count": 9,
      "outputs": [
        {
          "output_type": "stream",
          "text": [
            "Installing package into ‘/usr/local/lib/R/site-library’\n",
            "(as ‘lib’ is unspecified)\n",
            "\n"
          ],
          "name": "stderr"
        }
      ]
    },
    {
      "cell_type": "code",
      "metadata": {
        "id": "RmDTpnrQnYM9",
        "outputId": "0b94de1b-1773-4aa0-8d8c-ef3ff4263d9c",
        "colab": {
          "base_uri": "https://localhost:8080/"
        }
      },
      "source": [
        "install.packages(\"Rwordseg\",repos=\"http://R-Forge.R-project.org\")"
      ],
      "execution_count": 10,
      "outputs": [
        {
          "output_type": "stream",
          "text": [
            "Installing package into ‘/usr/local/lib/R/site-library’\n",
            "(as ‘lib’ is unspecified)\n",
            "\n",
            "Warning message:\n",
            "“dependency ‘HMM’ is not available”\n",
            "Warning message in install.packages(\"Rwordseg\", repos = \"http://R-Forge.R-project.org\"):\n",
            "“installation of package ‘Rwordseg’ had non-zero exit status”\n"
          ],
          "name": "stderr"
        }
      ]
    },
    {
      "cell_type": "code",
      "metadata": {
        "id": "ywM6upU6eqeU",
        "outputId": "33e52a14-1660-4828-ca8e-c6c039f190b1",
        "colab": {
          "base_uri": "https://localhost:8080/"
        }
      },
      "source": [
        "library(dplyr)\n",
        "library(lubridate)\n",
        "library(stringr)\n",
        "library(jiebaR)\n",
        "library(showtext)\n",
        "library(wordcloud)"
      ],
      "execution_count": 11,
      "outputs": [
        {
          "output_type": "stream",
          "text": [
            "\n",
            "Attaching package: ‘dplyr’\n",
            "\n",
            "\n",
            "The following objects are masked from ‘package:stats’:\n",
            "\n",
            "    filter, lag\n",
            "\n",
            "\n",
            "The following objects are masked from ‘package:base’:\n",
            "\n",
            "    intersect, setdiff, setequal, union\n",
            "\n",
            "\n",
            "\n",
            "Attaching package: ‘lubridate’\n",
            "\n",
            "\n",
            "The following objects are masked from ‘package:base’:\n",
            "\n",
            "    date, intersect, setdiff, union\n",
            "\n",
            "\n",
            "Loading required package: jiebaRD\n",
            "\n",
            "Loading required package: sysfonts\n",
            "\n",
            "Loading required package: showtextdb\n",
            "\n",
            "Loading required package: RColorBrewer\n",
            "\n"
          ],
          "name": "stderr"
        }
      ]
    },
    {
      "cell_type": "code",
      "metadata": {
        "id": "SahyDr1hoJvc",
        "outputId": "4f5c5996-cee0-436c-cb05-3e1d2ef12e3e",
        "colab": {
          "base_uri": "https://localhost:8080/"
        }
      },
      "source": [
        "showtext.auto(enable=TRUE)"
      ],
      "execution_count": 12,
      "outputs": [
        {
          "output_type": "stream",
          "text": [
            "'showtext.auto()' is now renamed to 'showtext_auto()'\n",
            "The old version still works, but consider using the new function in future code\n",
            "\n"
          ],
          "name": "stderr"
        }
      ]
    },
    {
      "cell_type": "code",
      "metadata": {
        "id": "awrmgQH9fA7R"
      },
      "source": [
        "content<-\"若能夠欣賞到唬爛的美，相信我們一定會對唬爛改觀。說到唬爛，你會想到什麼呢？唬爛因何而發生？\n",
        "我們一般認為，抓住了問題的關鍵，其他一切則會迎刃而解，所以，我們要從本質中思考，從根本上解決問題。\n",
        "唬爛對我來說，已經成為了我生活的一部分。卡耐基在過去曾經講過：「一個不注意小事情的人，永遠成就不了大事業。」\n",
        "這句話幾乎道出了問題的根本。把唬爛輕鬆帶過，並非是個適合的選擇，做好唬爛這件事，可以說已經成為了全民運動。\n",
        "世界上若沒有唬爛，對於人類的改變可想而知。我們需要淘汰舊有的觀念，姚合曾講過一段深奧的話：「百年心意味著，誰限河南北？」\n",
        "這段話可說是徹底震撼了我。忒壬斯也曾講過一段耐人尋思的話：「真正的智慧在於能明察眼前，而且還能預見未來。」\n",
        "他會這麼說是有理由的，若無法徹底理解唬爛，恐怕會是人類的一大遺憾。馮友蘭曾說過：「科學可以增加人的積極知識，但不能提高人的境界。」\n",
        "他會這麼說是有理由的。然而這些並不重要，更加要緊的是，對於唬爛，我們不能不去思考，卻也不能走火入魔。\n",
        "鄧拓講過：「越是沒有本領的，就越加自命不凡。」這句話是撼動人心的。問題的關鍵看似不明確，但想必在諸位心中已有了明確的答案。\n",
        "克羅齊曾經提到過：人類用知識的活動去了解事物，用實踐的活動去改變事物。叔本華曾說過一句意義深遠的話：「普通人只想到如何度過時間，有能力的人認為利用時間。」\n",
        "這不禁令我重新仔細的思考，若到今天結束時我們都還無法釐清唬爛的意義，那想必我們昨天也無法釐清。了解清楚唬爛到底是一種怎麼樣的存在，\n",
        "是解決一切問題的根本之道。總結來說，只有把延遲環境的心情，化為上進的力量，才是成功的保證。\""
      ],
      "execution_count": 13,
      "outputs": []
    },
    {
      "cell_type": "code",
      "metadata": {
        "id": "ufKoqZ6TflFd"
      },
      "source": [
        "cutter<-worker(bylines=F)"
      ],
      "execution_count": 14,
      "outputs": []
    },
    {
      "cell_type": "code",
      "metadata": {
        "id": "iowlR9XdfuLE",
        "outputId": "1e6a422d-b3a8-4cc5-f76e-d2240d2fbce8",
        "colab": {
          "base_uri": "https://localhost:8080/",
          "height": 221
        }
      },
      "source": [
        "cutter[content]"
      ],
      "execution_count": 15,
      "outputs": [
        {
          "output_type": "display_data",
          "data": {
            "text/plain": [
              "  [1] \"若\"       \"能夠\"     \"欣賞\"     \"到\"       \"唬爛\"     \"的\"      \n",
              "  [7] \"美\"       \"相信\"     \"我們\"     \"一定\"     \"會\"       \"對\"      \n",
              " [13] \"唬爛\"     \"改觀\"     \"說\"       \"到\"       \"唬爛\"     \"你\"      \n",
              " [19] \"會\"       \"想到\"     \"什麼\"     \"呢\"       \"唬\"       \"爛\"      \n",
              " [25] \"因\"       \"何\"       \"而\"       \"發生\"     \"我們\"     \"一般\"    \n",
              " [31] \"認為\"     \"抓住\"     \"了\"       \"問題\"     \"的\"       \"關鍵\"    \n",
              " [37] \"其他\"     \"一切\"     \"則會\"     \"迎刃而解\" \"所以\"     \"我們\"    \n",
              " [43] \"要\"       \"從\"       \"本質\"     \"中\"       \"思考\"     \"從根本上\"\n",
              " [49] \"解決問題\" \"唬爛\"     \"對\"       \"我\"       \"來說\"     \"已經\"    \n",
              " [55] \"成為\"     \"了\"       \"我\"       \"生活\"     \"的\"       \"一部分\"  \n",
              " [61] \"卡耐基\"   \"在\"       \"過去\"     \"曾經\"     \"講過\"     \"一個\"    \n",
              " [67] \"不\"       \"注意\"     \"小\"       \"事情\"     \"的\"       \"人\"      \n",
              " [73] \"永遠\"     \"成就\"     \"不了\"     \"大\"       \"事業\"     \"這句\"    \n",
              " [79] \"話\"       \"幾乎\"     \"道\"       \"出\"       \"了\"       \"問題\"    \n",
              " [85] \"的\"       \"根本\"     \"把\"       \"唬爛\"     \"輕鬆\"     \"帶過\"    \n",
              " [91] \"並非\"     \"是\"       \"個\"       \"適合\"     \"的\"       \"選擇\"    \n",
              " [97] \"做好\"     \"唬爛\"     \"這件\"     \"事\"       \"可以\"     \"說\"      \n",
              "[103] \"已經\"     \"成為\"     \"了\"       \"全民運動\" \"世界\"     \"上\"      \n",
              "[109] \"若\"       \"沒有\"     \"唬爛\"     \"對於\"     \"人類\"     \"的\"      \n",
              "[115] \"改變\"     \"可想而知\" \"我們\"     \"需要\"     \"淘汰\"     \"舊有\"    \n",
              "[121] \"的\"       \"觀念\"     \"姚合\"     \"曾\"       \"講過\"     \"一段\"    \n",
              "[127] \"深奧\"     \"的話\"     \"百年\"     \"心\"       \"意味著\"   \"誰\"      \n",
              "[133] \"限\"       \"河南\"     \"北\"       \"這段話\"   \"可說是\"   \"徹底\"    \n",
              "[139] \"震撼\"     \"了\"       \"我\"       \"忒\"       \"壬斯\"     \"也\"      \n",
              "[145] \"曾\"       \"講過\"     \"一段\"     \"耐人\"     \"尋思\"     \"的話\"    \n",
              "[151] \"真正\"     \"的\"       \"智慧\"     \"足以\"     \"在於\"     \"能\"      \n",
              "[157] \"明察\"     \"眼前\"     \"而且\"     \"還能\"     \"預見\"     \"未來\"    \n",
              "[163] \"他會\"     \"這麼\"     \"說\"       \"是\"       \"有\"       \"理由\"    \n",
              "[169] \"的\"       \"若\"       \"無法\"     \"徹底\"     \"理解\"     \"唬爛\"    \n",
              "[175] \"恐怕\"     \"會\"       \"是\"       \"人類\"     \"的\"       \"一大\"    \n",
              "[181] \"遺憾\"     \"馮友蘭\"   \"曾\"       \"說過\"     \"科學\"     \"可以\"    \n",
              "[187] \"增加\"     \"人\"       \"的\"       \"積極\"     \"知識\"     \"但\"      \n",
              "[193] \"不能\"     \"提高\"     \"人\"       \"的\"       \"境界\"     \"他會\"    \n",
              "[199] \"這麼\"     \"說\"       \"是\"       \"有\"       \"理由\"     \"的\"      \n",
              "[205] \"然而\"     \"這些\"     \"並不\"     \"重要\"     \"更加\"     \"要緊\"    \n",
              "[211] \"的\"       \"是\"       \"對於\"     \"唬爛\"     \"我們\"     \"不能不\"  \n",
              "[217] \"去\"       \"思考\"     \"卻\"       \"也\"       \"不能\"     \"走火入魔\"\n",
              "[223] \"鄧拓\"     \"講過\"     \"越是\"     \"沒有\"     \"本領\"     \"的\"      \n",
              "[229] \"就\"       \"越加\"     \"自\"       \"命中\"     \"不凡\"     \"這\"      \n",
              "[235] \"句\"       \"話\"       \"是\"       \"撼動\"     \"人心\"     \"的\"      \n",
              "[241] \"問題\"     \"的\"       \"關鍵\"     \"看似\"     \"不\"       \"明確\"    \n",
              "[247] \"但\"       \"想必\"     \"在\"       \"諸位\"     \"心中\"     \"已有\"    \n",
              "[253] \"了\"       \"明確\"     \"的\"       \"答案\"     \"克羅齊\"   \"曾經\"    \n",
              "[259] \"提到\"     \"過\"       \"人類\"     \"用\"       \"知識\"     \"的\"      \n",
              "[265] \"活動\"     \"去\"       \"了解\"     \"事物\"     \"用\"       \"實踐\"    \n",
              "[271] \"的\"       \"活動\"     \"去\"       \"改變\"     \"事物\"     \"叔本華\"  \n",
              "[277] \"曾\"       \"說過\"     \"一句\"     \"意義\"     \"深遠\"     \"的話\"    \n",
              "[283] \"普通人\"   \"只\"       \"想到\"     \"如何\"     \"度過\"     \"時間\"    \n",
              "[289] \"有\"       \"能力\"     \"的\"       \"人\"       \"認為\"     \"利用\"    \n",
              "[295] \"時間\"     \"這不\"     \"禁令\"     \"我\"       \"重新\"     \"仔細\"    \n",
              "[301] \"的\"       \"思考\"     \"若到\"     \"今天\"     \"結束\"     \"時\"      \n",
              "[307] \"我們\"     \"都還\"     \"無法\"     \"釐清\"     \"唬爛\"     \"的\"      \n",
              "[313] \"意義\"     \"那\"       \"想必\"     \"我們\"     \"昨天\"     \"也\"      \n",
              "[319] \"無法\"     \"釐清\"     \"了解\"     \"清楚\"     \"唬爛\"     \"到底\"    \n",
              "[325] \"是\"       \"一種\"     \"怎麼樣\"   \"的\"       \"存在\"     \"是\"      \n",
              "[331] \"解決\"     \"一切\"     \"問題\"     \"的\"       \"根本\"     \"之道\"    \n",
              "[337] \"總結\"     \"來說\"     \"只有\"     \"把\"       \"延遲\"     \"環境\"    \n",
              "[343] \"的\"       \"心情\"     \"化為\"     \"上\"       \"進\"       \"的\"      \n",
              "[349] \"力量\"     \"才\"       \"是\"       \"成功\"     \"的\"       \"保證\"    "
            ],
            "text/latex": "\\begin{enumerate*}\n\\item '若'\n\\item '能夠'\n\\item '欣賞'\n\\item '到'\n\\item '唬爛'\n\\item '的'\n\\item '美'\n\\item '相信'\n\\item '我們'\n\\item '一定'\n\\item '會'\n\\item '對'\n\\item '唬爛'\n\\item '改觀'\n\\item '說'\n\\item '到'\n\\item '唬爛'\n\\item '你'\n\\item '會'\n\\item '想到'\n\\item '什麼'\n\\item '呢'\n\\item '唬'\n\\item '爛'\n\\item '因'\n\\item '何'\n\\item '而'\n\\item '發生'\n\\item '我們'\n\\item '一般'\n\\item '認為'\n\\item '抓住'\n\\item '了'\n\\item '問題'\n\\item '的'\n\\item '關鍵'\n\\item '其他'\n\\item '一切'\n\\item '則會'\n\\item '迎刃而解'\n\\item '所以'\n\\item '我們'\n\\item '要'\n\\item '從'\n\\item '本質'\n\\item '中'\n\\item '思考'\n\\item '從根本上'\n\\item '解決問題'\n\\item '唬爛'\n\\item '對'\n\\item '我'\n\\item '來說'\n\\item '已經'\n\\item '成為'\n\\item '了'\n\\item '我'\n\\item '生活'\n\\item '的'\n\\item '一部分'\n\\item '卡耐基'\n\\item '在'\n\\item '過去'\n\\item '曾經'\n\\item '講過'\n\\item '一個'\n\\item '不'\n\\item '注意'\n\\item '小'\n\\item '事情'\n\\item '的'\n\\item '人'\n\\item '永遠'\n\\item '成就'\n\\item '不了'\n\\item '大'\n\\item '事業'\n\\item '這句'\n\\item '話'\n\\item '幾乎'\n\\item '道'\n\\item '出'\n\\item '了'\n\\item '問題'\n\\item '的'\n\\item '根本'\n\\item '把'\n\\item '唬爛'\n\\item '輕鬆'\n\\item '帶過'\n\\item '並非'\n\\item '是'\n\\item '個'\n\\item '適合'\n\\item '的'\n\\item '選擇'\n\\item '做好'\n\\item '唬爛'\n\\item '這件'\n\\item '事'\n\\item '可以'\n\\item '說'\n\\item '已經'\n\\item '成為'\n\\item '了'\n\\item '全民運動'\n\\item '世界'\n\\item '上'\n\\item '若'\n\\item '沒有'\n\\item '唬爛'\n\\item '對於'\n\\item '人類'\n\\item '的'\n\\item '改變'\n\\item '可想而知'\n\\item '我們'\n\\item '需要'\n\\item '淘汰'\n\\item '舊有'\n\\item '的'\n\\item '觀念'\n\\item '姚合'\n\\item '曾'\n\\item '講過'\n\\item '一段'\n\\item '深奧'\n\\item '的話'\n\\item '百年'\n\\item '心'\n\\item '意味著'\n\\item '誰'\n\\item '限'\n\\item '河南'\n\\item '北'\n\\item '這段話'\n\\item '可說是'\n\\item '徹底'\n\\item '震撼'\n\\item '了'\n\\item '我'\n\\item '忒'\n\\item '壬斯'\n\\item '也'\n\\item '曾'\n\\item '講過'\n\\item '一段'\n\\item '耐人'\n\\item '尋思'\n\\item '的話'\n\\item '真正'\n\\item '的'\n\\item '智慧'\n\\item '足以'\n\\item '在於'\n\\item '能'\n\\item '明察'\n\\item '眼前'\n\\item '而且'\n\\item '還能'\n\\item '預見'\n\\item '未來'\n\\item '他會'\n\\item '這麼'\n\\item '說'\n\\item '是'\n\\item '有'\n\\item '理由'\n\\item '的'\n\\item '若'\n\\item '無法'\n\\item '徹底'\n\\item '理解'\n\\item '唬爛'\n\\item '恐怕'\n\\item '會'\n\\item '是'\n\\item '人類'\n\\item '的'\n\\item '一大'\n\\item '遺憾'\n\\item '馮友蘭'\n\\item '曾'\n\\item '說過'\n\\item '科學'\n\\item '可以'\n\\item '增加'\n\\item '人'\n\\item '的'\n\\item '積極'\n\\item '知識'\n\\item '但'\n\\item '不能'\n\\item '提高'\n\\item '人'\n\\item '的'\n\\item '境界'\n\\item '他會'\n\\item '這麼'\n\\item '說'\n\\item '是'\n\\item '有'\n\\item '理由'\n\\item '的'\n\\item '然而'\n\\item '這些'\n\\item '並不'\n\\item '重要'\n\\item '更加'\n\\item '要緊'\n\\item '的'\n\\item '是'\n\\item '對於'\n\\item '唬爛'\n\\item '我們'\n\\item '不能不'\n\\item '去'\n\\item '思考'\n\\item '卻'\n\\item '也'\n\\item '不能'\n\\item '走火入魔'\n\\item '鄧拓'\n\\item '講過'\n\\item '越是'\n\\item '沒有'\n\\item '本領'\n\\item '的'\n\\item '就'\n\\item '越加'\n\\item '自'\n\\item '命中'\n\\item '不凡'\n\\item '這'\n\\item '句'\n\\item '話'\n\\item '是'\n\\item '撼動'\n\\item '人心'\n\\item '的'\n\\item '問題'\n\\item '的'\n\\item '關鍵'\n\\item '看似'\n\\item '不'\n\\item '明確'\n\\item '但'\n\\item '想必'\n\\item '在'\n\\item '諸位'\n\\item '心中'\n\\item '已有'\n\\item '了'\n\\item '明確'\n\\item '的'\n\\item '答案'\n\\item '克羅齊'\n\\item '曾經'\n\\item '提到'\n\\item '過'\n\\item '人類'\n\\item '用'\n\\item '知識'\n\\item '的'\n\\item '活動'\n\\item '去'\n\\item '了解'\n\\item '事物'\n\\item '用'\n\\item '實踐'\n\\item '的'\n\\item '活動'\n\\item '去'\n\\item '改變'\n\\item '事物'\n\\item '叔本華'\n\\item '曾'\n\\item '說過'\n\\item '一句'\n\\item '意義'\n\\item '深遠'\n\\item '的話'\n\\item '普通人'\n\\item '只'\n\\item '想到'\n\\item '如何'\n\\item '度過'\n\\item '時間'\n\\item '有'\n\\item '能力'\n\\item '的'\n\\item '人'\n\\item '認為'\n\\item '利用'\n\\item '時間'\n\\item '這不'\n\\item '禁令'\n\\item '我'\n\\item '重新'\n\\item '仔細'\n\\item '的'\n\\item '思考'\n\\item '若到'\n\\item '今天'\n\\item '結束'\n\\item '時'\n\\item '我們'\n\\item '都還'\n\\item '無法'\n\\item '釐清'\n\\item '唬爛'\n\\item '的'\n\\item '意義'\n\\item '那'\n\\item '想必'\n\\item '我們'\n\\item '昨天'\n\\item '也'\n\\item '無法'\n\\item '釐清'\n\\item '了解'\n\\item '清楚'\n\\item '唬爛'\n\\item '到底'\n\\item '是'\n\\item '一種'\n\\item '怎麼樣'\n\\item '的'\n\\item '存在'\n\\item '是'\n\\item '解決'\n\\item '一切'\n\\item '問題'\n\\item '的'\n\\item '根本'\n\\item '之道'\n\\item '總結'\n\\item '來說'\n\\item '只有'\n\\item '把'\n\\item '延遲'\n\\item '環境'\n\\item '的'\n\\item '心情'\n\\item '化為'\n\\item '上'\n\\item '進'\n\\item '的'\n\\item '力量'\n\\item '才'\n\\item '是'\n\\item '成功'\n\\item '的'\n\\item '保證'\n\\end{enumerate*}\n",
            "text/markdown": "1. '若'\n2. '能夠'\n3. '欣賞'\n4. '到'\n5. '唬爛'\n6. '的'\n7. '美'\n8. '相信'\n9. '我們'\n10. '一定'\n11. '會'\n12. '對'\n13. '唬爛'\n14. '改觀'\n15. '說'\n16. '到'\n17. '唬爛'\n18. '你'\n19. '會'\n20. '想到'\n21. '什麼'\n22. '呢'\n23. '唬'\n24. '爛'\n25. '因'\n26. '何'\n27. '而'\n28. '發生'\n29. '我們'\n30. '一般'\n31. '認為'\n32. '抓住'\n33. '了'\n34. '問題'\n35. '的'\n36. '關鍵'\n37. '其他'\n38. '一切'\n39. '則會'\n40. '迎刃而解'\n41. '所以'\n42. '我們'\n43. '要'\n44. '從'\n45. '本質'\n46. '中'\n47. '思考'\n48. '從根本上'\n49. '解決問題'\n50. '唬爛'\n51. '對'\n52. '我'\n53. '來說'\n54. '已經'\n55. '成為'\n56. '了'\n57. '我'\n58. '生活'\n59. '的'\n60. '一部分'\n61. '卡耐基'\n62. '在'\n63. '過去'\n64. '曾經'\n65. '講過'\n66. '一個'\n67. '不'\n68. '注意'\n69. '小'\n70. '事情'\n71. '的'\n72. '人'\n73. '永遠'\n74. '成就'\n75. '不了'\n76. '大'\n77. '事業'\n78. '這句'\n79. '話'\n80. '幾乎'\n81. '道'\n82. '出'\n83. '了'\n84. '問題'\n85. '的'\n86. '根本'\n87. '把'\n88. '唬爛'\n89. '輕鬆'\n90. '帶過'\n91. '並非'\n92. '是'\n93. '個'\n94. '適合'\n95. '的'\n96. '選擇'\n97. '做好'\n98. '唬爛'\n99. '這件'\n100. '事'\n101. '可以'\n102. '說'\n103. '已經'\n104. '成為'\n105. '了'\n106. '全民運動'\n107. '世界'\n108. '上'\n109. '若'\n110. '沒有'\n111. '唬爛'\n112. '對於'\n113. '人類'\n114. '的'\n115. '改變'\n116. '可想而知'\n117. '我們'\n118. '需要'\n119. '淘汰'\n120. '舊有'\n121. '的'\n122. '觀念'\n123. '姚合'\n124. '曾'\n125. '講過'\n126. '一段'\n127. '深奧'\n128. '的話'\n129. '百年'\n130. '心'\n131. '意味著'\n132. '誰'\n133. '限'\n134. '河南'\n135. '北'\n136. '這段話'\n137. '可說是'\n138. '徹底'\n139. '震撼'\n140. '了'\n141. '我'\n142. '忒'\n143. '壬斯'\n144. '也'\n145. '曾'\n146. '講過'\n147. '一段'\n148. '耐人'\n149. '尋思'\n150. '的話'\n151. '真正'\n152. '的'\n153. '智慧'\n154. '足以'\n155. '在於'\n156. '能'\n157. '明察'\n158. '眼前'\n159. '而且'\n160. '還能'\n161. '預見'\n162. '未來'\n163. '他會'\n164. '這麼'\n165. '說'\n166. '是'\n167. '有'\n168. '理由'\n169. '的'\n170. '若'\n171. '無法'\n172. '徹底'\n173. '理解'\n174. '唬爛'\n175. '恐怕'\n176. '會'\n177. '是'\n178. '人類'\n179. '的'\n180. '一大'\n181. '遺憾'\n182. '馮友蘭'\n183. '曾'\n184. '說過'\n185. '科學'\n186. '可以'\n187. '增加'\n188. '人'\n189. '的'\n190. '積極'\n191. '知識'\n192. '但'\n193. '不能'\n194. '提高'\n195. '人'\n196. '的'\n197. '境界'\n198. '他會'\n199. '這麼'\n200. '說'\n201. '是'\n202. '有'\n203. '理由'\n204. '的'\n205. '然而'\n206. '這些'\n207. '並不'\n208. '重要'\n209. '更加'\n210. '要緊'\n211. '的'\n212. '是'\n213. '對於'\n214. '唬爛'\n215. '我們'\n216. '不能不'\n217. '去'\n218. '思考'\n219. '卻'\n220. '也'\n221. '不能'\n222. '走火入魔'\n223. '鄧拓'\n224. '講過'\n225. '越是'\n226. '沒有'\n227. '本領'\n228. '的'\n229. '就'\n230. '越加'\n231. '自'\n232. '命中'\n233. '不凡'\n234. '這'\n235. '句'\n236. '話'\n237. '是'\n238. '撼動'\n239. '人心'\n240. '的'\n241. '問題'\n242. '的'\n243. '關鍵'\n244. '看似'\n245. '不'\n246. '明確'\n247. '但'\n248. '想必'\n249. '在'\n250. '諸位'\n251. '心中'\n252. '已有'\n253. '了'\n254. '明確'\n255. '的'\n256. '答案'\n257. '克羅齊'\n258. '曾經'\n259. '提到'\n260. '過'\n261. '人類'\n262. '用'\n263. '知識'\n264. '的'\n265. '活動'\n266. '去'\n267. '了解'\n268. '事物'\n269. '用'\n270. '實踐'\n271. '的'\n272. '活動'\n273. '去'\n274. '改變'\n275. '事物'\n276. '叔本華'\n277. '曾'\n278. '說過'\n279. '一句'\n280. '意義'\n281. '深遠'\n282. '的話'\n283. '普通人'\n284. '只'\n285. '想到'\n286. '如何'\n287. '度過'\n288. '時間'\n289. '有'\n290. '能力'\n291. '的'\n292. '人'\n293. '認為'\n294. '利用'\n295. '時間'\n296. '這不'\n297. '禁令'\n298. '我'\n299. '重新'\n300. '仔細'\n301. '的'\n302. '思考'\n303. '若到'\n304. '今天'\n305. '結束'\n306. '時'\n307. '我們'\n308. '都還'\n309. '無法'\n310. '釐清'\n311. '唬爛'\n312. '的'\n313. '意義'\n314. '那'\n315. '想必'\n316. '我們'\n317. '昨天'\n318. '也'\n319. '無法'\n320. '釐清'\n321. '了解'\n322. '清楚'\n323. '唬爛'\n324. '到底'\n325. '是'\n326. '一種'\n327. '怎麼樣'\n328. '的'\n329. '存在'\n330. '是'\n331. '解決'\n332. '一切'\n333. '問題'\n334. '的'\n335. '根本'\n336. '之道'\n337. '總結'\n338. '來說'\n339. '只有'\n340. '把'\n341. '延遲'\n342. '環境'\n343. '的'\n344. '心情'\n345. '化為'\n346. '上'\n347. '進'\n348. '的'\n349. '力量'\n350. '才'\n351. '是'\n352. '成功'\n353. '的'\n354. '保證'\n\n\n",
            "text/html": [
              "<style>\n",
              ".list-inline {list-style: none; margin:0; padding: 0}\n",
              ".list-inline>li {display: inline-block}\n",
              ".list-inline>li:not(:last-child)::after {content: \"\\00b7\"; padding: 0 .5ex}\n",
              "</style>\n",
              "<ol class=list-inline><li>'若'</li><li>'能夠'</li><li>'欣賞'</li><li>'到'</li><li>'唬爛'</li><li>'的'</li><li>'美'</li><li>'相信'</li><li>'我們'</li><li>'一定'</li><li>'會'</li><li>'對'</li><li>'唬爛'</li><li>'改觀'</li><li>'說'</li><li>'到'</li><li>'唬爛'</li><li>'你'</li><li>'會'</li><li>'想到'</li><li>'什麼'</li><li>'呢'</li><li>'唬'</li><li>'爛'</li><li>'因'</li><li>'何'</li><li>'而'</li><li>'發生'</li><li>'我們'</li><li>'一般'</li><li>'認為'</li><li>'抓住'</li><li>'了'</li><li>'問題'</li><li>'的'</li><li>'關鍵'</li><li>'其他'</li><li>'一切'</li><li>'則會'</li><li>'迎刃而解'</li><li>'所以'</li><li>'我們'</li><li>'要'</li><li>'從'</li><li>'本質'</li><li>'中'</li><li>'思考'</li><li>'從根本上'</li><li>'解決問題'</li><li>'唬爛'</li><li>'對'</li><li>'我'</li><li>'來說'</li><li>'已經'</li><li>'成為'</li><li>'了'</li><li>'我'</li><li>'生活'</li><li>'的'</li><li>'一部分'</li><li>'卡耐基'</li><li>'在'</li><li>'過去'</li><li>'曾經'</li><li>'講過'</li><li>'一個'</li><li>'不'</li><li>'注意'</li><li>'小'</li><li>'事情'</li><li>'的'</li><li>'人'</li><li>'永遠'</li><li>'成就'</li><li>'不了'</li><li>'大'</li><li>'事業'</li><li>'這句'</li><li>'話'</li><li>'幾乎'</li><li>'道'</li><li>'出'</li><li>'了'</li><li>'問題'</li><li>'的'</li><li>'根本'</li><li>'把'</li><li>'唬爛'</li><li>'輕鬆'</li><li>'帶過'</li><li>'並非'</li><li>'是'</li><li>'個'</li><li>'適合'</li><li>'的'</li><li>'選擇'</li><li>'做好'</li><li>'唬爛'</li><li>'這件'</li><li>'事'</li><li>'可以'</li><li>'說'</li><li>'已經'</li><li>'成為'</li><li>'了'</li><li>'全民運動'</li><li>'世界'</li><li>'上'</li><li>'若'</li><li>'沒有'</li><li>'唬爛'</li><li>'對於'</li><li>'人類'</li><li>'的'</li><li>'改變'</li><li>'可想而知'</li><li>'我們'</li><li>'需要'</li><li>'淘汰'</li><li>'舊有'</li><li>'的'</li><li>'觀念'</li><li>'姚合'</li><li>'曾'</li><li>'講過'</li><li>'一段'</li><li>'深奧'</li><li>'的話'</li><li>'百年'</li><li>'心'</li><li>'意味著'</li><li>'誰'</li><li>'限'</li><li>'河南'</li><li>'北'</li><li>'這段話'</li><li>'可說是'</li><li>'徹底'</li><li>'震撼'</li><li>'了'</li><li>'我'</li><li>'忒'</li><li>'壬斯'</li><li>'也'</li><li>'曾'</li><li>'講過'</li><li>'一段'</li><li>'耐人'</li><li>'尋思'</li><li>'的話'</li><li>'真正'</li><li>'的'</li><li>'智慧'</li><li>'足以'</li><li>'在於'</li><li>'能'</li><li>'明察'</li><li>'眼前'</li><li>'而且'</li><li>'還能'</li><li>'預見'</li><li>'未來'</li><li>'他會'</li><li>'這麼'</li><li>'說'</li><li>'是'</li><li>'有'</li><li>'理由'</li><li>'的'</li><li>'若'</li><li>'無法'</li><li>'徹底'</li><li>'理解'</li><li>'唬爛'</li><li>'恐怕'</li><li>'會'</li><li>'是'</li><li>'人類'</li><li>'的'</li><li>'一大'</li><li>'遺憾'</li><li>'馮友蘭'</li><li>'曾'</li><li>'說過'</li><li>'科學'</li><li>'可以'</li><li>'增加'</li><li>'人'</li><li>'的'</li><li>'積極'</li><li>'知識'</li><li>'但'</li><li>'不能'</li><li>'提高'</li><li>'人'</li><li>'的'</li><li>'境界'</li><li>'他會'</li><li>'這麼'</li><li>'說'</li><li>'是'</li><li>'有'</li><li>'理由'</li><li>'的'</li><li>'然而'</li><li>'這些'</li><li>'並不'</li><li>'重要'</li><li>'更加'</li><li>'要緊'</li><li>'的'</li><li>'是'</li><li>'對於'</li><li>'唬爛'</li><li>'我們'</li><li>'不能不'</li><li>'去'</li><li>'思考'</li><li>'卻'</li><li>'也'</li><li>'不能'</li><li>'走火入魔'</li><li>'鄧拓'</li><li>'講過'</li><li>'越是'</li><li>'沒有'</li><li>'本領'</li><li>'的'</li><li>'就'</li><li>'越加'</li><li>'自'</li><li>'命中'</li><li>'不凡'</li><li>'這'</li><li>'句'</li><li>'話'</li><li>'是'</li><li>'撼動'</li><li>'人心'</li><li>'的'</li><li>'問題'</li><li>'的'</li><li>'關鍵'</li><li>'看似'</li><li>'不'</li><li>'明確'</li><li>'但'</li><li>'想必'</li><li>'在'</li><li>'諸位'</li><li>'心中'</li><li>'已有'</li><li>'了'</li><li>'明確'</li><li>'的'</li><li>'答案'</li><li>'克羅齊'</li><li>'曾經'</li><li>'提到'</li><li>'過'</li><li>'人類'</li><li>'用'</li><li>'知識'</li><li>'的'</li><li>'活動'</li><li>'去'</li><li>'了解'</li><li>'事物'</li><li>'用'</li><li>'實踐'</li><li>'的'</li><li>'活動'</li><li>'去'</li><li>'改變'</li><li>'事物'</li><li>'叔本華'</li><li>'曾'</li><li>'說過'</li><li>'一句'</li><li>'意義'</li><li>'深遠'</li><li>'的話'</li><li>'普通人'</li><li>'只'</li><li>'想到'</li><li>'如何'</li><li>'度過'</li><li>'時間'</li><li>'有'</li><li>'能力'</li><li>'的'</li><li>'人'</li><li>'認為'</li><li>'利用'</li><li>'時間'</li><li>'這不'</li><li>'禁令'</li><li>'我'</li><li>'重新'</li><li>'仔細'</li><li>'的'</li><li>'思考'</li><li>'若到'</li><li>'今天'</li><li>'結束'</li><li>'時'</li><li>'我們'</li><li>'都還'</li><li>'無法'</li><li>'釐清'</li><li>'唬爛'</li><li>'的'</li><li>'意義'</li><li>'那'</li><li>'想必'</li><li>'我們'</li><li>'昨天'</li><li>'也'</li><li>'無法'</li><li>'釐清'</li><li>'了解'</li><li>'清楚'</li><li>'唬爛'</li><li>'到底'</li><li>'是'</li><li>'一種'</li><li>'怎麼樣'</li><li>'的'</li><li>'存在'</li><li>'是'</li><li>'解決'</li><li>'一切'</li><li>'問題'</li><li>'的'</li><li>'根本'</li><li>'之道'</li><li>'總結'</li><li>'來說'</li><li>'只有'</li><li>'把'</li><li>'延遲'</li><li>'環境'</li><li>'的'</li><li>'心情'</li><li>'化為'</li><li>'上'</li><li>'進'</li><li>'的'</li><li>'力量'</li><li>'才'</li><li>'是'</li><li>'成功'</li><li>'的'</li><li>'保證'</li></ol>\n"
            ]
          },
          "metadata": {
            "tags": []
          }
        }
      ]
    },
    {
      "cell_type": "code",
      "metadata": {
        "id": "EiXn3stPf09N"
      },
      "source": [
        "new_words<-c(\"唬爛\",\"全民運動\",\"不注意\",\"這句話\",\"河南北\",\"忒壬斯\",\"自命不凡\",\"不禁\",\"總結來說\",\"上進\",\"這件事\")"
      ],
      "execution_count": 25,
      "outputs": []
    },
    {
      "cell_type": "code",
      "metadata": {
        "id": "naK2SWM6gLv9"
      },
      "source": [
        "for(i in 1:length(new_words)){\n",
        "  new_user_word(cutter,new_words[i])\n",
        "}"
      ],
      "execution_count": 26,
      "outputs": []
    },
    {
      "cell_type": "code",
      "metadata": {
        "id": "D5-bUXlhgb6u"
      },
      "source": [
        "content<-str_remove_all(content,\"[0-9a-zA-Z]+?\")"
      ],
      "execution_count": 27,
      "outputs": []
    },
    {
      "cell_type": "code",
      "metadata": {
        "id": "H0IQNOlngxHh",
        "outputId": "90694c2c-f889-43f6-fa85-7da3dc29b30f",
        "colab": {
          "base_uri": "https://localhost:8080/",
          "height": 221
        }
      },
      "source": [
        "cutter[content]"
      ],
      "execution_count": 28,
      "outputs": [
        {
          "output_type": "display_data",
          "data": {
            "text/plain": [
              "  [1] \"若\"       \"能夠\"     \"欣賞\"     \"到\"       \"唬爛\"     \"的\"      \n",
              "  [7] \"美\"       \"相信\"     \"我們\"     \"一定\"     \"會\"       \"對\"      \n",
              " [13] \"唬爛\"     \"改觀\"     \"說\"       \"到\"       \"唬爛\"     \"你\"      \n",
              " [19] \"會\"       \"想到\"     \"什麼\"     \"呢\"       \"唬爛\"     \"因何\"    \n",
              " [25] \"而\"       \"發生\"     \"我們\"     \"一般\"     \"認為\"     \"抓住\"    \n",
              " [31] \"了\"       \"問題\"     \"的\"       \"關鍵\"     \"其他\"     \"一切\"    \n",
              " [37] \"則會\"     \"迎刃而解\" \"所以\"     \"我們\"     \"要\"       \"從\"      \n",
              " [43] \"本質\"     \"中\"       \"思考\"     \"從根本上\" \"解決問題\" \"唬爛\"    \n",
              " [49] \"對\"       \"我\"       \"來說\"     \"已經\"     \"成為\"     \"了\"      \n",
              " [55] \"我\"       \"生活\"     \"的\"       \"一部分\"   \"卡耐基\"   \"在\"      \n",
              " [61] \"過去\"     \"曾經\"     \"講過\"     \"一個\"     \"不注意\"   \"小\"      \n",
              " [67] \"事情\"     \"的\"       \"人\"       \"永遠\"     \"成就\"     \"不了\"    \n",
              " [73] \"大\"       \"事業\"     \"這句話\"   \"幾乎\"     \"道\"       \"出\"      \n",
              " [79] \"了\"       \"問題\"     \"的\"       \"根本\"     \"把\"       \"唬爛\"    \n",
              " [85] \"輕鬆\"     \"帶過\"     \"並非\"     \"是\"       \"個\"       \"適合\"    \n",
              " [91] \"的\"       \"選擇\"     \"做好\"     \"唬爛\"     \"這件事\"   \"可以\"    \n",
              " [97] \"說\"       \"已經\"     \"成為\"     \"了\"       \"全民運動\" \"世界\"    \n",
              "[103] \"上\"       \"若\"       \"沒有\"     \"唬爛\"     \"對於\"     \"人類\"    \n",
              "[109] \"的\"       \"改變\"     \"可想而知\" \"我們\"     \"需要\"     \"淘汰\"    \n",
              "[115] \"舊有\"     \"的\"       \"觀念\"     \"姚合\"     \"曾\"       \"講過\"    \n",
              "[121] \"一段\"     \"深奧\"     \"的話\"     \"百年\"     \"心\"       \"意味著\"  \n",
              "[127] \"誰\"       \"限\"       \"河南北\"   \"這段話\"   \"可說是\"   \"徹底\"    \n",
              "[133] \"震撼\"     \"了\"       \"我\"       \"忒壬斯\"   \"也\"       \"曾\"      \n",
              "[139] \"講過\"     \"一段\"     \"耐人\"     \"尋思\"     \"的話\"     \"真正\"    \n",
              "[145] \"的\"       \"智慧\"     \"足以\"     \"在於\"     \"能\"       \"明察\"    \n",
              "[151] \"眼前\"     \"而且\"     \"還能\"     \"預見\"     \"未來\"     \"他會\"    \n",
              "[157] \"這麼\"     \"說\"       \"是\"       \"有\"       \"理由\"     \"的\"      \n",
              "[163] \"若\"       \"無法\"     \"徹底\"     \"理解\"     \"唬爛\"     \"恐怕\"    \n",
              "[169] \"會\"       \"是\"       \"人類\"     \"的\"       \"一大\"     \"遺憾\"    \n",
              "[175] \"馮友蘭\"   \"曾\"       \"說過\"     \"科學\"     \"可以\"     \"增加\"    \n",
              "[181] \"人\"       \"的\"       \"積極\"     \"知識\"     \"但\"       \"不能\"    \n",
              "[187] \"提高\"     \"人\"       \"的\"       \"境界\"     \"他會\"     \"這麼\"    \n",
              "[193] \"說\"       \"是\"       \"有\"       \"理由\"     \"的\"       \"然而\"    \n",
              "[199] \"這些\"     \"並不\"     \"重要\"     \"更加\"     \"要緊\"     \"的\"      \n",
              "[205] \"是\"       \"對於\"     \"唬爛\"     \"我們\"     \"不能不\"   \"去\"      \n",
              "[211] \"思考\"     \"卻\"       \"也\"       \"不能\"     \"走火入魔\" \"鄧拓\"    \n",
              "[217] \"講過\"     \"越是\"     \"沒有\"     \"本領\"     \"的\"       \"就\"      \n",
              "[223] \"越加\"     \"自\"       \"命中\"     \"不凡\"     \"這句話\"   \"是\"      \n",
              "[229] \"撼動\"     \"人心\"     \"的\"       \"問題\"     \"的\"       \"關鍵\"    \n",
              "[235] \"看似\"     \"不\"       \"明確\"     \"但\"       \"想必\"     \"在\"      \n",
              "[241] \"諸位\"     \"心中\"     \"已有\"     \"了\"       \"明確\"     \"的\"      \n",
              "[247] \"答案\"     \"克羅齊\"   \"曾經\"     \"提到\"     \"過\"       \"人類\"    \n",
              "[253] \"用\"       \"知識\"     \"的\"       \"活動\"     \"去\"       \"了解\"    \n",
              "[259] \"事物\"     \"用\"       \"實踐\"     \"的\"       \"活動\"     \"去\"      \n",
              "[265] \"改變\"     \"事物\"     \"叔本華\"   \"曾\"       \"說過\"     \"一句\"    \n",
              "[271] \"意義\"     \"深遠\"     \"的話\"     \"普通人\"   \"只\"       \"想到\"    \n",
              "[277] \"如何\"     \"度過\"     \"時間\"     \"有\"       \"能力\"     \"的\"      \n",
              "[283] \"人\"       \"認為\"     \"利用\"     \"時間\"     \"這\"       \"不禁\"    \n",
              "[289] \"令\"       \"我\"       \"重新\"     \"仔細\"     \"的\"       \"思考\"    \n",
              "[295] \"若到\"     \"今天\"     \"結束\"     \"時\"       \"我們\"     \"都還\"    \n",
              "[301] \"無法\"     \"釐清\"     \"唬爛\"     \"的\"       \"意義\"     \"那\"      \n",
              "[307] \"想必\"     \"我們\"     \"昨天\"     \"也\"       \"無法\"     \"釐清\"    \n",
              "[313] \"了解\"     \"清楚\"     \"唬爛\"     \"到底\"     \"是\"       \"一種\"    \n",
              "[319] \"怎麼樣\"   \"的\"       \"存在\"     \"是\"       \"解決\"     \"一切\"    \n",
              "[325] \"問題\"     \"的\"       \"根本\"     \"之道\"     \"總結來說\" \"只有\"    \n",
              "[331] \"把\"       \"延遲\"     \"環境\"     \"的\"       \"心情\"     \"化為\"    \n",
              "[337] \"上進\"     \"的\"       \"力量\"     \"才\"       \"是\"       \"成功\"    \n",
              "[343] \"的\"       \"保證\"    "
            ],
            "text/latex": "\\begin{enumerate*}\n\\item '若'\n\\item '能夠'\n\\item '欣賞'\n\\item '到'\n\\item '唬爛'\n\\item '的'\n\\item '美'\n\\item '相信'\n\\item '我們'\n\\item '一定'\n\\item '會'\n\\item '對'\n\\item '唬爛'\n\\item '改觀'\n\\item '說'\n\\item '到'\n\\item '唬爛'\n\\item '你'\n\\item '會'\n\\item '想到'\n\\item '什麼'\n\\item '呢'\n\\item '唬爛'\n\\item '因何'\n\\item '而'\n\\item '發生'\n\\item '我們'\n\\item '一般'\n\\item '認為'\n\\item '抓住'\n\\item '了'\n\\item '問題'\n\\item '的'\n\\item '關鍵'\n\\item '其他'\n\\item '一切'\n\\item '則會'\n\\item '迎刃而解'\n\\item '所以'\n\\item '我們'\n\\item '要'\n\\item '從'\n\\item '本質'\n\\item '中'\n\\item '思考'\n\\item '從根本上'\n\\item '解決問題'\n\\item '唬爛'\n\\item '對'\n\\item '我'\n\\item '來說'\n\\item '已經'\n\\item '成為'\n\\item '了'\n\\item '我'\n\\item '生活'\n\\item '的'\n\\item '一部分'\n\\item '卡耐基'\n\\item '在'\n\\item '過去'\n\\item '曾經'\n\\item '講過'\n\\item '一個'\n\\item '不注意'\n\\item '小'\n\\item '事情'\n\\item '的'\n\\item '人'\n\\item '永遠'\n\\item '成就'\n\\item '不了'\n\\item '大'\n\\item '事業'\n\\item '這句話'\n\\item '幾乎'\n\\item '道'\n\\item '出'\n\\item '了'\n\\item '問題'\n\\item '的'\n\\item '根本'\n\\item '把'\n\\item '唬爛'\n\\item '輕鬆'\n\\item '帶過'\n\\item '並非'\n\\item '是'\n\\item '個'\n\\item '適合'\n\\item '的'\n\\item '選擇'\n\\item '做好'\n\\item '唬爛'\n\\item '這件事'\n\\item '可以'\n\\item '說'\n\\item '已經'\n\\item '成為'\n\\item '了'\n\\item '全民運動'\n\\item '世界'\n\\item '上'\n\\item '若'\n\\item '沒有'\n\\item '唬爛'\n\\item '對於'\n\\item '人類'\n\\item '的'\n\\item '改變'\n\\item '可想而知'\n\\item '我們'\n\\item '需要'\n\\item '淘汰'\n\\item '舊有'\n\\item '的'\n\\item '觀念'\n\\item '姚合'\n\\item '曾'\n\\item '講過'\n\\item '一段'\n\\item '深奧'\n\\item '的話'\n\\item '百年'\n\\item '心'\n\\item '意味著'\n\\item '誰'\n\\item '限'\n\\item '河南北'\n\\item '這段話'\n\\item '可說是'\n\\item '徹底'\n\\item '震撼'\n\\item '了'\n\\item '我'\n\\item '忒壬斯'\n\\item '也'\n\\item '曾'\n\\item '講過'\n\\item '一段'\n\\item '耐人'\n\\item '尋思'\n\\item '的話'\n\\item '真正'\n\\item '的'\n\\item '智慧'\n\\item '足以'\n\\item '在於'\n\\item '能'\n\\item '明察'\n\\item '眼前'\n\\item '而且'\n\\item '還能'\n\\item '預見'\n\\item '未來'\n\\item '他會'\n\\item '這麼'\n\\item '說'\n\\item '是'\n\\item '有'\n\\item '理由'\n\\item '的'\n\\item '若'\n\\item '無法'\n\\item '徹底'\n\\item '理解'\n\\item '唬爛'\n\\item '恐怕'\n\\item '會'\n\\item '是'\n\\item '人類'\n\\item '的'\n\\item '一大'\n\\item '遺憾'\n\\item '馮友蘭'\n\\item '曾'\n\\item '說過'\n\\item '科學'\n\\item '可以'\n\\item '增加'\n\\item '人'\n\\item '的'\n\\item '積極'\n\\item '知識'\n\\item '但'\n\\item '不能'\n\\item '提高'\n\\item '人'\n\\item '的'\n\\item '境界'\n\\item '他會'\n\\item '這麼'\n\\item '說'\n\\item '是'\n\\item '有'\n\\item '理由'\n\\item '的'\n\\item '然而'\n\\item '這些'\n\\item '並不'\n\\item '重要'\n\\item '更加'\n\\item '要緊'\n\\item '的'\n\\item '是'\n\\item '對於'\n\\item '唬爛'\n\\item '我們'\n\\item '不能不'\n\\item '去'\n\\item '思考'\n\\item '卻'\n\\item '也'\n\\item '不能'\n\\item '走火入魔'\n\\item '鄧拓'\n\\item '講過'\n\\item '越是'\n\\item '沒有'\n\\item '本領'\n\\item '的'\n\\item '就'\n\\item '越加'\n\\item '自'\n\\item '命中'\n\\item '不凡'\n\\item '這句話'\n\\item '是'\n\\item '撼動'\n\\item '人心'\n\\item '的'\n\\item '問題'\n\\item '的'\n\\item '關鍵'\n\\item '看似'\n\\item '不'\n\\item '明確'\n\\item '但'\n\\item '想必'\n\\item '在'\n\\item '諸位'\n\\item '心中'\n\\item '已有'\n\\item '了'\n\\item '明確'\n\\item '的'\n\\item '答案'\n\\item '克羅齊'\n\\item '曾經'\n\\item '提到'\n\\item '過'\n\\item '人類'\n\\item '用'\n\\item '知識'\n\\item '的'\n\\item '活動'\n\\item '去'\n\\item '了解'\n\\item '事物'\n\\item '用'\n\\item '實踐'\n\\item '的'\n\\item '活動'\n\\item '去'\n\\item '改變'\n\\item '事物'\n\\item '叔本華'\n\\item '曾'\n\\item '說過'\n\\item '一句'\n\\item '意義'\n\\item '深遠'\n\\item '的話'\n\\item '普通人'\n\\item '只'\n\\item '想到'\n\\item '如何'\n\\item '度過'\n\\item '時間'\n\\item '有'\n\\item '能力'\n\\item '的'\n\\item '人'\n\\item '認為'\n\\item '利用'\n\\item '時間'\n\\item '這'\n\\item '不禁'\n\\item '令'\n\\item '我'\n\\item '重新'\n\\item '仔細'\n\\item '的'\n\\item '思考'\n\\item '若到'\n\\item '今天'\n\\item '結束'\n\\item '時'\n\\item '我們'\n\\item '都還'\n\\item '無法'\n\\item '釐清'\n\\item '唬爛'\n\\item '的'\n\\item '意義'\n\\item '那'\n\\item '想必'\n\\item '我們'\n\\item '昨天'\n\\item '也'\n\\item '無法'\n\\item '釐清'\n\\item '了解'\n\\item '清楚'\n\\item '唬爛'\n\\item '到底'\n\\item '是'\n\\item '一種'\n\\item '怎麼樣'\n\\item '的'\n\\item '存在'\n\\item '是'\n\\item '解決'\n\\item '一切'\n\\item '問題'\n\\item '的'\n\\item '根本'\n\\item '之道'\n\\item '總結來說'\n\\item '只有'\n\\item '把'\n\\item '延遲'\n\\item '環境'\n\\item '的'\n\\item '心情'\n\\item '化為'\n\\item '上進'\n\\item '的'\n\\item '力量'\n\\item '才'\n\\item '是'\n\\item '成功'\n\\item '的'\n\\item '保證'\n\\end{enumerate*}\n",
            "text/markdown": "1. '若'\n2. '能夠'\n3. '欣賞'\n4. '到'\n5. '唬爛'\n6. '的'\n7. '美'\n8. '相信'\n9. '我們'\n10. '一定'\n11. '會'\n12. '對'\n13. '唬爛'\n14. '改觀'\n15. '說'\n16. '到'\n17. '唬爛'\n18. '你'\n19. '會'\n20. '想到'\n21. '什麼'\n22. '呢'\n23. '唬爛'\n24. '因何'\n25. '而'\n26. '發生'\n27. '我們'\n28. '一般'\n29. '認為'\n30. '抓住'\n31. '了'\n32. '問題'\n33. '的'\n34. '關鍵'\n35. '其他'\n36. '一切'\n37. '則會'\n38. '迎刃而解'\n39. '所以'\n40. '我們'\n41. '要'\n42. '從'\n43. '本質'\n44. '中'\n45. '思考'\n46. '從根本上'\n47. '解決問題'\n48. '唬爛'\n49. '對'\n50. '我'\n51. '來說'\n52. '已經'\n53. '成為'\n54. '了'\n55. '我'\n56. '生活'\n57. '的'\n58. '一部分'\n59. '卡耐基'\n60. '在'\n61. '過去'\n62. '曾經'\n63. '講過'\n64. '一個'\n65. '不注意'\n66. '小'\n67. '事情'\n68. '的'\n69. '人'\n70. '永遠'\n71. '成就'\n72. '不了'\n73. '大'\n74. '事業'\n75. '這句話'\n76. '幾乎'\n77. '道'\n78. '出'\n79. '了'\n80. '問題'\n81. '的'\n82. '根本'\n83. '把'\n84. '唬爛'\n85. '輕鬆'\n86. '帶過'\n87. '並非'\n88. '是'\n89. '個'\n90. '適合'\n91. '的'\n92. '選擇'\n93. '做好'\n94. '唬爛'\n95. '這件事'\n96. '可以'\n97. '說'\n98. '已經'\n99. '成為'\n100. '了'\n101. '全民運動'\n102. '世界'\n103. '上'\n104. '若'\n105. '沒有'\n106. '唬爛'\n107. '對於'\n108. '人類'\n109. '的'\n110. '改變'\n111. '可想而知'\n112. '我們'\n113. '需要'\n114. '淘汰'\n115. '舊有'\n116. '的'\n117. '觀念'\n118. '姚合'\n119. '曾'\n120. '講過'\n121. '一段'\n122. '深奧'\n123. '的話'\n124. '百年'\n125. '心'\n126. '意味著'\n127. '誰'\n128. '限'\n129. '河南北'\n130. '這段話'\n131. '可說是'\n132. '徹底'\n133. '震撼'\n134. '了'\n135. '我'\n136. '忒壬斯'\n137. '也'\n138. '曾'\n139. '講過'\n140. '一段'\n141. '耐人'\n142. '尋思'\n143. '的話'\n144. '真正'\n145. '的'\n146. '智慧'\n147. '足以'\n148. '在於'\n149. '能'\n150. '明察'\n151. '眼前'\n152. '而且'\n153. '還能'\n154. '預見'\n155. '未來'\n156. '他會'\n157. '這麼'\n158. '說'\n159. '是'\n160. '有'\n161. '理由'\n162. '的'\n163. '若'\n164. '無法'\n165. '徹底'\n166. '理解'\n167. '唬爛'\n168. '恐怕'\n169. '會'\n170. '是'\n171. '人類'\n172. '的'\n173. '一大'\n174. '遺憾'\n175. '馮友蘭'\n176. '曾'\n177. '說過'\n178. '科學'\n179. '可以'\n180. '增加'\n181. '人'\n182. '的'\n183. '積極'\n184. '知識'\n185. '但'\n186. '不能'\n187. '提高'\n188. '人'\n189. '的'\n190. '境界'\n191. '他會'\n192. '這麼'\n193. '說'\n194. '是'\n195. '有'\n196. '理由'\n197. '的'\n198. '然而'\n199. '這些'\n200. '並不'\n201. '重要'\n202. '更加'\n203. '要緊'\n204. '的'\n205. '是'\n206. '對於'\n207. '唬爛'\n208. '我們'\n209. '不能不'\n210. '去'\n211. '思考'\n212. '卻'\n213. '也'\n214. '不能'\n215. '走火入魔'\n216. '鄧拓'\n217. '講過'\n218. '越是'\n219. '沒有'\n220. '本領'\n221. '的'\n222. '就'\n223. '越加'\n224. '自'\n225. '命中'\n226. '不凡'\n227. '這句話'\n228. '是'\n229. '撼動'\n230. '人心'\n231. '的'\n232. '問題'\n233. '的'\n234. '關鍵'\n235. '看似'\n236. '不'\n237. '明確'\n238. '但'\n239. '想必'\n240. '在'\n241. '諸位'\n242. '心中'\n243. '已有'\n244. '了'\n245. '明確'\n246. '的'\n247. '答案'\n248. '克羅齊'\n249. '曾經'\n250. '提到'\n251. '過'\n252. '人類'\n253. '用'\n254. '知識'\n255. '的'\n256. '活動'\n257. '去'\n258. '了解'\n259. '事物'\n260. '用'\n261. '實踐'\n262. '的'\n263. '活動'\n264. '去'\n265. '改變'\n266. '事物'\n267. '叔本華'\n268. '曾'\n269. '說過'\n270. '一句'\n271. '意義'\n272. '深遠'\n273. '的話'\n274. '普通人'\n275. '只'\n276. '想到'\n277. '如何'\n278. '度過'\n279. '時間'\n280. '有'\n281. '能力'\n282. '的'\n283. '人'\n284. '認為'\n285. '利用'\n286. '時間'\n287. '這'\n288. '不禁'\n289. '令'\n290. '我'\n291. '重新'\n292. '仔細'\n293. '的'\n294. '思考'\n295. '若到'\n296. '今天'\n297. '結束'\n298. '時'\n299. '我們'\n300. '都還'\n301. '無法'\n302. '釐清'\n303. '唬爛'\n304. '的'\n305. '意義'\n306. '那'\n307. '想必'\n308. '我們'\n309. '昨天'\n310. '也'\n311. '無法'\n312. '釐清'\n313. '了解'\n314. '清楚'\n315. '唬爛'\n316. '到底'\n317. '是'\n318. '一種'\n319. '怎麼樣'\n320. '的'\n321. '存在'\n322. '是'\n323. '解決'\n324. '一切'\n325. '問題'\n326. '的'\n327. '根本'\n328. '之道'\n329. '總結來說'\n330. '只有'\n331. '把'\n332. '延遲'\n333. '環境'\n334. '的'\n335. '心情'\n336. '化為'\n337. '上進'\n338. '的'\n339. '力量'\n340. '才'\n341. '是'\n342. '成功'\n343. '的'\n344. '保證'\n\n\n",
            "text/html": [
              "<style>\n",
              ".list-inline {list-style: none; margin:0; padding: 0}\n",
              ".list-inline>li {display: inline-block}\n",
              ".list-inline>li:not(:last-child)::after {content: \"\\00b7\"; padding: 0 .5ex}\n",
              "</style>\n",
              "<ol class=list-inline><li>'若'</li><li>'能夠'</li><li>'欣賞'</li><li>'到'</li><li>'唬爛'</li><li>'的'</li><li>'美'</li><li>'相信'</li><li>'我們'</li><li>'一定'</li><li>'會'</li><li>'對'</li><li>'唬爛'</li><li>'改觀'</li><li>'說'</li><li>'到'</li><li>'唬爛'</li><li>'你'</li><li>'會'</li><li>'想到'</li><li>'什麼'</li><li>'呢'</li><li>'唬爛'</li><li>'因何'</li><li>'而'</li><li>'發生'</li><li>'我們'</li><li>'一般'</li><li>'認為'</li><li>'抓住'</li><li>'了'</li><li>'問題'</li><li>'的'</li><li>'關鍵'</li><li>'其他'</li><li>'一切'</li><li>'則會'</li><li>'迎刃而解'</li><li>'所以'</li><li>'我們'</li><li>'要'</li><li>'從'</li><li>'本質'</li><li>'中'</li><li>'思考'</li><li>'從根本上'</li><li>'解決問題'</li><li>'唬爛'</li><li>'對'</li><li>'我'</li><li>'來說'</li><li>'已經'</li><li>'成為'</li><li>'了'</li><li>'我'</li><li>'生活'</li><li>'的'</li><li>'一部分'</li><li>'卡耐基'</li><li>'在'</li><li>'過去'</li><li>'曾經'</li><li>'講過'</li><li>'一個'</li><li>'不注意'</li><li>'小'</li><li>'事情'</li><li>'的'</li><li>'人'</li><li>'永遠'</li><li>'成就'</li><li>'不了'</li><li>'大'</li><li>'事業'</li><li>'這句話'</li><li>'幾乎'</li><li>'道'</li><li>'出'</li><li>'了'</li><li>'問題'</li><li>'的'</li><li>'根本'</li><li>'把'</li><li>'唬爛'</li><li>'輕鬆'</li><li>'帶過'</li><li>'並非'</li><li>'是'</li><li>'個'</li><li>'適合'</li><li>'的'</li><li>'選擇'</li><li>'做好'</li><li>'唬爛'</li><li>'這件事'</li><li>'可以'</li><li>'說'</li><li>'已經'</li><li>'成為'</li><li>'了'</li><li>'全民運動'</li><li>'世界'</li><li>'上'</li><li>'若'</li><li>'沒有'</li><li>'唬爛'</li><li>'對於'</li><li>'人類'</li><li>'的'</li><li>'改變'</li><li>'可想而知'</li><li>'我們'</li><li>'需要'</li><li>'淘汰'</li><li>'舊有'</li><li>'的'</li><li>'觀念'</li><li>'姚合'</li><li>'曾'</li><li>'講過'</li><li>'一段'</li><li>'深奧'</li><li>'的話'</li><li>'百年'</li><li>'心'</li><li>'意味著'</li><li>'誰'</li><li>'限'</li><li>'河南北'</li><li>'這段話'</li><li>'可說是'</li><li>'徹底'</li><li>'震撼'</li><li>'了'</li><li>'我'</li><li>'忒壬斯'</li><li>'也'</li><li>'曾'</li><li>'講過'</li><li>'一段'</li><li>'耐人'</li><li>'尋思'</li><li>'的話'</li><li>'真正'</li><li>'的'</li><li>'智慧'</li><li>'足以'</li><li>'在於'</li><li>'能'</li><li>'明察'</li><li>'眼前'</li><li>'而且'</li><li>'還能'</li><li>'預見'</li><li>'未來'</li><li>'他會'</li><li>'這麼'</li><li>'說'</li><li>'是'</li><li>'有'</li><li>'理由'</li><li>'的'</li><li>'若'</li><li>'無法'</li><li>'徹底'</li><li>'理解'</li><li>'唬爛'</li><li>'恐怕'</li><li>'會'</li><li>'是'</li><li>'人類'</li><li>'的'</li><li>'一大'</li><li>'遺憾'</li><li>'馮友蘭'</li><li>'曾'</li><li>'說過'</li><li>'科學'</li><li>'可以'</li><li>'增加'</li><li>'人'</li><li>'的'</li><li>'積極'</li><li>'知識'</li><li>'但'</li><li>'不能'</li><li>'提高'</li><li>'人'</li><li>'的'</li><li>'境界'</li><li>'他會'</li><li>'這麼'</li><li>'說'</li><li>'是'</li><li>'有'</li><li>'理由'</li><li>'的'</li><li>'然而'</li><li>'這些'</li><li>'並不'</li><li>'重要'</li><li>'更加'</li><li>'要緊'</li><li>'的'</li><li>'是'</li><li>'對於'</li><li>'唬爛'</li><li>'我們'</li><li>'不能不'</li><li>'去'</li><li>'思考'</li><li>'卻'</li><li>'也'</li><li>'不能'</li><li>'走火入魔'</li><li>'鄧拓'</li><li>'講過'</li><li>'越是'</li><li>'沒有'</li><li>'本領'</li><li>'的'</li><li>'就'</li><li>'越加'</li><li>'自'</li><li>'命中'</li><li>'不凡'</li><li>'這句話'</li><li>'是'</li><li>'撼動'</li><li>'人心'</li><li>'的'</li><li>'問題'</li><li>'的'</li><li>'關鍵'</li><li>'看似'</li><li>'不'</li><li>'明確'</li><li>'但'</li><li>'想必'</li><li>'在'</li><li>'諸位'</li><li>'心中'</li><li>'已有'</li><li>'了'</li><li>'明確'</li><li>'的'</li><li>'答案'</li><li>'克羅齊'</li><li>'曾經'</li><li>'提到'</li><li>'過'</li><li>'人類'</li><li>'用'</li><li>'知識'</li><li>'的'</li><li>'活動'</li><li>'去'</li><li>'了解'</li><li>'事物'</li><li>'用'</li><li>'實踐'</li><li>'的'</li><li>'活動'</li><li>'去'</li><li>'改變'</li><li>'事物'</li><li>'叔本華'</li><li>'曾'</li><li>'說過'</li><li>'一句'</li><li>'意義'</li><li>'深遠'</li><li>'的話'</li><li>'普通人'</li><li>'只'</li><li>'想到'</li><li>'如何'</li><li>'度過'</li><li>'時間'</li><li>'有'</li><li>'能力'</li><li>'的'</li><li>'人'</li><li>'認為'</li><li>'利用'</li><li>'時間'</li><li>'這'</li><li>'不禁'</li><li>'令'</li><li>'我'</li><li>'重新'</li><li>'仔細'</li><li>'的'</li><li>'思考'</li><li>'若到'</li><li>'今天'</li><li>'結束'</li><li>'時'</li><li>'我們'</li><li>'都還'</li><li>'無法'</li><li>'釐清'</li><li>'唬爛'</li><li>'的'</li><li>'意義'</li><li>'那'</li><li>'想必'</li><li>'我們'</li><li>'昨天'</li><li>'也'</li><li>'無法'</li><li>'釐清'</li><li>'了解'</li><li>'清楚'</li><li>'唬爛'</li><li>'到底'</li><li>'是'</li><li>'一種'</li><li>'怎麼樣'</li><li>'的'</li><li>'存在'</li><li>'是'</li><li>'解決'</li><li>'一切'</li><li>'問題'</li><li>'的'</li><li>'根本'</li><li>'之道'</li><li>'總結來說'</li><li>'只有'</li><li>'把'</li><li>'延遲'</li><li>'環境'</li><li>'的'</li><li>'心情'</li><li>'化為'</li><li>'上進'</li><li>'的'</li><li>'力量'</li><li>'才'</li><li>'是'</li><li>'成功'</li><li>'的'</li><li>'保證'</li></ol>\n"
            ]
          },
          "metadata": {
            "tags": []
          }
        }
      ]
    },
    {
      "cell_type": "code",
      "metadata": {
        "id": "8jHscbqCgzsb"
      },
      "source": [
        "writeLines(new_words,\"new_words.txt\")"
      ],
      "execution_count": 29,
      "outputs": []
    },
    {
      "cell_type": "code",
      "metadata": {
        "id": "Ji6o2lQwiCA5"
      },
      "source": [
        "stop_words<-c(\"在\",\"之\",\"更\",\"個\",\"未\",\"而\",\"也\",\"與\",\"的\",\"有\",\"沒有\",\"以及\",\"對\",\"然而\",\n",
        "\"已\",\"對於\",\"莫\",\"無\",\"至今\",\"能\",\"仍\",\"為\",\"從\",\"若\",\"到\",\"會\",\"說\",\"你\",\"呢\",\"了\",\"要\",\n",
        "\"是\",\"個\",\"曾\",\"可以\",\"不能不\",\"我\",\"但\",\"卻\",\"在\",\"只\",\"才\",\"去\",\"出\",\"令\",\"時\",\"足以\",\"那\",\n",
        "\"這\",\"不\",\"中\",\"上\",\"大\",\"小\",\"而且\",\"還\",\"能\",\"不能\",\"他\",\"並不\",\"過\",\"似\",\"用\",\"把\",\"我們\",\n",
        "\"的話\",\"講過\",\"無法\")"
      ],
      "execution_count": 64,
      "outputs": []
    },
    {
      "cell_type": "code",
      "metadata": {
        "id": "SHaXvTtjiU1k"
      },
      "source": [
        "writeLines(stop_words,\"stop_words.txt\")"
      ],
      "execution_count": 65,
      "outputs": []
    },
    {
      "cell_type": "code",
      "metadata": {
        "id": "LLINdr37hB50"
      },
      "source": [
        "cutter<-worker(user=\"new_words.txt\",stop_word=\"stop_words.txt\",bylines=FALSE)"
      ],
      "execution_count": 66,
      "outputs": []
    },
    {
      "cell_type": "code",
      "metadata": {
        "id": "f3lzY5mqhoTX"
      },
      "source": [
        "seg_words<-cutter[content]"
      ],
      "execution_count": 67,
      "outputs": []
    },
    {
      "cell_type": "code",
      "metadata": {
        "id": "SrX_q_v0iyqm",
        "outputId": "c173c312-4f29-444c-ca34-7df9648774ed",
        "colab": {
          "base_uri": "https://localhost:8080/",
          "height": 170
        }
      },
      "source": [
        "seg_words"
      ],
      "execution_count": 68,
      "outputs": [
        {
          "output_type": "display_data",
          "data": {
            "text/plain": [
              "  [1] \"能夠\"     \"欣賞\"     \"唬爛\"     \"美\"       \"相信\"     \"一定\"    \n",
              "  [7] \"唬爛\"     \"改觀\"     \"唬爛\"     \"想到\"     \"什麼\"     \"唬爛\"    \n",
              " [13] \"因何\"     \"發生\"     \"一般\"     \"認為\"     \"抓住\"     \"問題\"    \n",
              " [19] \"關鍵\"     \"其他\"     \"一切\"     \"則會\"     \"迎刃而解\" \"所以\"    \n",
              " [25] \"本質\"     \"思考\"     \"從根本上\" \"解決問題\" \"唬爛\"     \"來說\"    \n",
              " [31] \"已經\"     \"成為\"     \"生活\"     \"一部分\"   \"卡耐基\"   \"過去\"    \n",
              " [37] \"曾經\"     \"一個\"     \"不注意\"   \"事情\"     \"人\"       \"永遠\"    \n",
              " [43] \"成就\"     \"不了\"     \"事業\"     \"這句話\"   \"幾乎\"     \"道\"      \n",
              " [49] \"問題\"     \"根本\"     \"唬爛\"     \"輕鬆\"     \"帶過\"     \"並非\"    \n",
              " [55] \"適合\"     \"選擇\"     \"做好\"     \"唬爛\"     \"這件事\"   \"已經\"    \n",
              " [61] \"成為\"     \"全民運動\" \"世界\"     \"唬爛\"     \"人類\"     \"改變\"    \n",
              " [67] \"可想而知\" \"需要\"     \"淘汰\"     \"舊有\"     \"觀念\"     \"姚合\"    \n",
              " [73] \"一段\"     \"深奧\"     \"百年\"     \"心\"       \"意味著\"   \"誰\"      \n",
              " [79] \"限\"       \"河南北\"   \"這段話\"   \"可說是\"   \"徹底\"     \"震撼\"    \n",
              " [85] \"忒壬斯\"   \"一段\"     \"耐人\"     \"尋思\"     \"真正\"     \"智慧\"    \n",
              " [91] \"在於\"     \"明察\"     \"眼前\"     \"還能\"     \"預見\"     \"未來\"    \n",
              " [97] \"他會\"     \"這麼\"     \"理由\"     \"徹底\"     \"理解\"     \"唬爛\"    \n",
              "[103] \"恐怕\"     \"人類\"     \"一大\"     \"遺憾\"     \"馮友蘭\"   \"說過\"    \n",
              "[109] \"科學\"     \"增加\"     \"人\"       \"積極\"     \"知識\"     \"提高\"    \n",
              "[115] \"人\"       \"境界\"     \"他會\"     \"這麼\"     \"理由\"     \"這些\"    \n",
              "[121] \"重要\"     \"更加\"     \"要緊\"     \"唬爛\"     \"思考\"     \"走火入魔\"\n",
              "[127] \"鄧拓\"     \"越是\"     \"本領\"     \"就\"       \"越加\"     \"自\"      \n",
              "[133] \"命中\"     \"不凡\"     \"這句話\"   \"撼動\"     \"人心\"     \"問題\"    \n",
              "[139] \"關鍵\"     \"看似\"     \"明確\"     \"想必\"     \"諸位\"     \"心中\"    \n",
              "[145] \"已有\"     \"明確\"     \"答案\"     \"克羅齊\"   \"曾經\"     \"提到\"    \n",
              "[151] \"人類\"     \"知識\"     \"活動\"     \"了解\"     \"事物\"     \"實踐\"    \n",
              "[157] \"活動\"     \"改變\"     \"事物\"     \"叔本華\"   \"說過\"     \"一句\"    \n",
              "[163] \"意義\"     \"深遠\"     \"普通人\"   \"想到\"     \"如何\"     \"度過\"    \n",
              "[169] \"時間\"     \"能力\"     \"人\"       \"認為\"     \"利用\"     \"時間\"    \n",
              "[175] \"不禁\"     \"重新\"     \"仔細\"     \"思考\"     \"若到\"     \"今天\"    \n",
              "[181] \"結束\"     \"都還\"     \"釐清\"     \"唬爛\"     \"意義\"     \"想必\"    \n",
              "[187] \"昨天\"     \"釐清\"     \"了解\"     \"清楚\"     \"唬爛\"     \"到底\"    \n",
              "[193] \"一種\"     \"怎麼樣\"   \"存在\"     \"解決\"     \"一切\"     \"問題\"    \n",
              "[199] \"根本\"     \"之道\"     \"總結來說\" \"只有\"     \"延遲\"     \"環境\"    \n",
              "[205] \"心情\"     \"化為\"     \"上進\"     \"力量\"     \"成功\"     \"保證\"    "
            ],
            "text/latex": "\\begin{enumerate*}\n\\item '能夠'\n\\item '欣賞'\n\\item '唬爛'\n\\item '美'\n\\item '相信'\n\\item '一定'\n\\item '唬爛'\n\\item '改觀'\n\\item '唬爛'\n\\item '想到'\n\\item '什麼'\n\\item '唬爛'\n\\item '因何'\n\\item '發生'\n\\item '一般'\n\\item '認為'\n\\item '抓住'\n\\item '問題'\n\\item '關鍵'\n\\item '其他'\n\\item '一切'\n\\item '則會'\n\\item '迎刃而解'\n\\item '所以'\n\\item '本質'\n\\item '思考'\n\\item '從根本上'\n\\item '解決問題'\n\\item '唬爛'\n\\item '來說'\n\\item '已經'\n\\item '成為'\n\\item '生活'\n\\item '一部分'\n\\item '卡耐基'\n\\item '過去'\n\\item '曾經'\n\\item '一個'\n\\item '不注意'\n\\item '事情'\n\\item '人'\n\\item '永遠'\n\\item '成就'\n\\item '不了'\n\\item '事業'\n\\item '這句話'\n\\item '幾乎'\n\\item '道'\n\\item '問題'\n\\item '根本'\n\\item '唬爛'\n\\item '輕鬆'\n\\item '帶過'\n\\item '並非'\n\\item '適合'\n\\item '選擇'\n\\item '做好'\n\\item '唬爛'\n\\item '這件事'\n\\item '已經'\n\\item '成為'\n\\item '全民運動'\n\\item '世界'\n\\item '唬爛'\n\\item '人類'\n\\item '改變'\n\\item '可想而知'\n\\item '需要'\n\\item '淘汰'\n\\item '舊有'\n\\item '觀念'\n\\item '姚合'\n\\item '一段'\n\\item '深奧'\n\\item '百年'\n\\item '心'\n\\item '意味著'\n\\item '誰'\n\\item '限'\n\\item '河南北'\n\\item '這段話'\n\\item '可說是'\n\\item '徹底'\n\\item '震撼'\n\\item '忒壬斯'\n\\item '一段'\n\\item '耐人'\n\\item '尋思'\n\\item '真正'\n\\item '智慧'\n\\item '在於'\n\\item '明察'\n\\item '眼前'\n\\item '還能'\n\\item '預見'\n\\item '未來'\n\\item '他會'\n\\item '這麼'\n\\item '理由'\n\\item '徹底'\n\\item '理解'\n\\item '唬爛'\n\\item '恐怕'\n\\item '人類'\n\\item '一大'\n\\item '遺憾'\n\\item '馮友蘭'\n\\item '說過'\n\\item '科學'\n\\item '增加'\n\\item '人'\n\\item '積極'\n\\item '知識'\n\\item '提高'\n\\item '人'\n\\item '境界'\n\\item '他會'\n\\item '這麼'\n\\item '理由'\n\\item '這些'\n\\item '重要'\n\\item '更加'\n\\item '要緊'\n\\item '唬爛'\n\\item '思考'\n\\item '走火入魔'\n\\item '鄧拓'\n\\item '越是'\n\\item '本領'\n\\item '就'\n\\item '越加'\n\\item '自'\n\\item '命中'\n\\item '不凡'\n\\item '這句話'\n\\item '撼動'\n\\item '人心'\n\\item '問題'\n\\item '關鍵'\n\\item '看似'\n\\item '明確'\n\\item '想必'\n\\item '諸位'\n\\item '心中'\n\\item '已有'\n\\item '明確'\n\\item '答案'\n\\item '克羅齊'\n\\item '曾經'\n\\item '提到'\n\\item '人類'\n\\item '知識'\n\\item '活動'\n\\item '了解'\n\\item '事物'\n\\item '實踐'\n\\item '活動'\n\\item '改變'\n\\item '事物'\n\\item '叔本華'\n\\item '說過'\n\\item '一句'\n\\item '意義'\n\\item '深遠'\n\\item '普通人'\n\\item '想到'\n\\item '如何'\n\\item '度過'\n\\item '時間'\n\\item '能力'\n\\item '人'\n\\item '認為'\n\\item '利用'\n\\item '時間'\n\\item '不禁'\n\\item '重新'\n\\item '仔細'\n\\item '思考'\n\\item '若到'\n\\item '今天'\n\\item '結束'\n\\item '都還'\n\\item '釐清'\n\\item '唬爛'\n\\item '意義'\n\\item '想必'\n\\item '昨天'\n\\item '釐清'\n\\item '了解'\n\\item '清楚'\n\\item '唬爛'\n\\item '到底'\n\\item '一種'\n\\item '怎麼樣'\n\\item '存在'\n\\item '解決'\n\\item '一切'\n\\item '問題'\n\\item '根本'\n\\item '之道'\n\\item '總結來說'\n\\item '只有'\n\\item '延遲'\n\\item '環境'\n\\item '心情'\n\\item '化為'\n\\item '上進'\n\\item '力量'\n\\item '成功'\n\\item '保證'\n\\end{enumerate*}\n",
            "text/markdown": "1. '能夠'\n2. '欣賞'\n3. '唬爛'\n4. '美'\n5. '相信'\n6. '一定'\n7. '唬爛'\n8. '改觀'\n9. '唬爛'\n10. '想到'\n11. '什麼'\n12. '唬爛'\n13. '因何'\n14. '發生'\n15. '一般'\n16. '認為'\n17. '抓住'\n18. '問題'\n19. '關鍵'\n20. '其他'\n21. '一切'\n22. '則會'\n23. '迎刃而解'\n24. '所以'\n25. '本質'\n26. '思考'\n27. '從根本上'\n28. '解決問題'\n29. '唬爛'\n30. '來說'\n31. '已經'\n32. '成為'\n33. '生活'\n34. '一部分'\n35. '卡耐基'\n36. '過去'\n37. '曾經'\n38. '一個'\n39. '不注意'\n40. '事情'\n41. '人'\n42. '永遠'\n43. '成就'\n44. '不了'\n45. '事業'\n46. '這句話'\n47. '幾乎'\n48. '道'\n49. '問題'\n50. '根本'\n51. '唬爛'\n52. '輕鬆'\n53. '帶過'\n54. '並非'\n55. '適合'\n56. '選擇'\n57. '做好'\n58. '唬爛'\n59. '這件事'\n60. '已經'\n61. '成為'\n62. '全民運動'\n63. '世界'\n64. '唬爛'\n65. '人類'\n66. '改變'\n67. '可想而知'\n68. '需要'\n69. '淘汰'\n70. '舊有'\n71. '觀念'\n72. '姚合'\n73. '一段'\n74. '深奧'\n75. '百年'\n76. '心'\n77. '意味著'\n78. '誰'\n79. '限'\n80. '河南北'\n81. '這段話'\n82. '可說是'\n83. '徹底'\n84. '震撼'\n85. '忒壬斯'\n86. '一段'\n87. '耐人'\n88. '尋思'\n89. '真正'\n90. '智慧'\n91. '在於'\n92. '明察'\n93. '眼前'\n94. '還能'\n95. '預見'\n96. '未來'\n97. '他會'\n98. '這麼'\n99. '理由'\n100. '徹底'\n101. '理解'\n102. '唬爛'\n103. '恐怕'\n104. '人類'\n105. '一大'\n106. '遺憾'\n107. '馮友蘭'\n108. '說過'\n109. '科學'\n110. '增加'\n111. '人'\n112. '積極'\n113. '知識'\n114. '提高'\n115. '人'\n116. '境界'\n117. '他會'\n118. '這麼'\n119. '理由'\n120. '這些'\n121. '重要'\n122. '更加'\n123. '要緊'\n124. '唬爛'\n125. '思考'\n126. '走火入魔'\n127. '鄧拓'\n128. '越是'\n129. '本領'\n130. '就'\n131. '越加'\n132. '自'\n133. '命中'\n134. '不凡'\n135. '這句話'\n136. '撼動'\n137. '人心'\n138. '問題'\n139. '關鍵'\n140. '看似'\n141. '明確'\n142. '想必'\n143. '諸位'\n144. '心中'\n145. '已有'\n146. '明確'\n147. '答案'\n148. '克羅齊'\n149. '曾經'\n150. '提到'\n151. '人類'\n152. '知識'\n153. '活動'\n154. '了解'\n155. '事物'\n156. '實踐'\n157. '活動'\n158. '改變'\n159. '事物'\n160. '叔本華'\n161. '說過'\n162. '一句'\n163. '意義'\n164. '深遠'\n165. '普通人'\n166. '想到'\n167. '如何'\n168. '度過'\n169. '時間'\n170. '能力'\n171. '人'\n172. '認為'\n173. '利用'\n174. '時間'\n175. '不禁'\n176. '重新'\n177. '仔細'\n178. '思考'\n179. '若到'\n180. '今天'\n181. '結束'\n182. '都還'\n183. '釐清'\n184. '唬爛'\n185. '意義'\n186. '想必'\n187. '昨天'\n188. '釐清'\n189. '了解'\n190. '清楚'\n191. '唬爛'\n192. '到底'\n193. '一種'\n194. '怎麼樣'\n195. '存在'\n196. '解決'\n197. '一切'\n198. '問題'\n199. '根本'\n200. '之道'\n201. '總結來說'\n202. '只有'\n203. '延遲'\n204. '環境'\n205. '心情'\n206. '化為'\n207. '上進'\n208. '力量'\n209. '成功'\n210. '保證'\n\n\n",
            "text/html": [
              "<style>\n",
              ".list-inline {list-style: none; margin:0; padding: 0}\n",
              ".list-inline>li {display: inline-block}\n",
              ".list-inline>li:not(:last-child)::after {content: \"\\00b7\"; padding: 0 .5ex}\n",
              "</style>\n",
              "<ol class=list-inline><li>'能夠'</li><li>'欣賞'</li><li>'唬爛'</li><li>'美'</li><li>'相信'</li><li>'一定'</li><li>'唬爛'</li><li>'改觀'</li><li>'唬爛'</li><li>'想到'</li><li>'什麼'</li><li>'唬爛'</li><li>'因何'</li><li>'發生'</li><li>'一般'</li><li>'認為'</li><li>'抓住'</li><li>'問題'</li><li>'關鍵'</li><li>'其他'</li><li>'一切'</li><li>'則會'</li><li>'迎刃而解'</li><li>'所以'</li><li>'本質'</li><li>'思考'</li><li>'從根本上'</li><li>'解決問題'</li><li>'唬爛'</li><li>'來說'</li><li>'已經'</li><li>'成為'</li><li>'生活'</li><li>'一部分'</li><li>'卡耐基'</li><li>'過去'</li><li>'曾經'</li><li>'一個'</li><li>'不注意'</li><li>'事情'</li><li>'人'</li><li>'永遠'</li><li>'成就'</li><li>'不了'</li><li>'事業'</li><li>'這句話'</li><li>'幾乎'</li><li>'道'</li><li>'問題'</li><li>'根本'</li><li>'唬爛'</li><li>'輕鬆'</li><li>'帶過'</li><li>'並非'</li><li>'適合'</li><li>'選擇'</li><li>'做好'</li><li>'唬爛'</li><li>'這件事'</li><li>'已經'</li><li>'成為'</li><li>'全民運動'</li><li>'世界'</li><li>'唬爛'</li><li>'人類'</li><li>'改變'</li><li>'可想而知'</li><li>'需要'</li><li>'淘汰'</li><li>'舊有'</li><li>'觀念'</li><li>'姚合'</li><li>'一段'</li><li>'深奧'</li><li>'百年'</li><li>'心'</li><li>'意味著'</li><li>'誰'</li><li>'限'</li><li>'河南北'</li><li>'這段話'</li><li>'可說是'</li><li>'徹底'</li><li>'震撼'</li><li>'忒壬斯'</li><li>'一段'</li><li>'耐人'</li><li>'尋思'</li><li>'真正'</li><li>'智慧'</li><li>'在於'</li><li>'明察'</li><li>'眼前'</li><li>'還能'</li><li>'預見'</li><li>'未來'</li><li>'他會'</li><li>'這麼'</li><li>'理由'</li><li>'徹底'</li><li>'理解'</li><li>'唬爛'</li><li>'恐怕'</li><li>'人類'</li><li>'一大'</li><li>'遺憾'</li><li>'馮友蘭'</li><li>'說過'</li><li>'科學'</li><li>'增加'</li><li>'人'</li><li>'積極'</li><li>'知識'</li><li>'提高'</li><li>'人'</li><li>'境界'</li><li>'他會'</li><li>'這麼'</li><li>'理由'</li><li>'這些'</li><li>'重要'</li><li>'更加'</li><li>'要緊'</li><li>'唬爛'</li><li>'思考'</li><li>'走火入魔'</li><li>'鄧拓'</li><li>'越是'</li><li>'本領'</li><li>'就'</li><li>'越加'</li><li>'自'</li><li>'命中'</li><li>'不凡'</li><li>'這句話'</li><li>'撼動'</li><li>'人心'</li><li>'問題'</li><li>'關鍵'</li><li>'看似'</li><li>'明確'</li><li>'想必'</li><li>'諸位'</li><li>'心中'</li><li>'已有'</li><li>'明確'</li><li>'答案'</li><li>'克羅齊'</li><li>'曾經'</li><li>'提到'</li><li>'人類'</li><li>'知識'</li><li>'活動'</li><li>'了解'</li><li>'事物'</li><li>'實踐'</li><li>'活動'</li><li>'改變'</li><li>'事物'</li><li>'叔本華'</li><li>'說過'</li><li>'一句'</li><li>'意義'</li><li>'深遠'</li><li>'普通人'</li><li>'想到'</li><li>'如何'</li><li>'度過'</li><li>'時間'</li><li>'能力'</li><li>'人'</li><li>'認為'</li><li>'利用'</li><li>'時間'</li><li>'不禁'</li><li>'重新'</li><li>'仔細'</li><li>'思考'</li><li>'若到'</li><li>'今天'</li><li>'結束'</li><li>'都還'</li><li>'釐清'</li><li>'唬爛'</li><li>'意義'</li><li>'想必'</li><li>'昨天'</li><li>'釐清'</li><li>'了解'</li><li>'清楚'</li><li>'唬爛'</li><li>'到底'</li><li>'一種'</li><li>'怎麼樣'</li><li>'存在'</li><li>'解決'</li><li>'一切'</li><li>'問題'</li><li>'根本'</li><li>'之道'</li><li>'總結來說'</li><li>'只有'</li><li>'延遲'</li><li>'環境'</li><li>'心情'</li><li>'化為'</li><li>'上進'</li><li>'力量'</li><li>'成功'</li><li>'保證'</li></ol>\n"
            ]
          },
          "metadata": {
            "tags": []
          }
        }
      ]
    },
    {
      "cell_type": "code",
      "metadata": {
        "id": "ArIvTcGJi2Gg"
      },
      "source": [
        "txt_freq<-freq(seg_words)"
      ],
      "execution_count": 69,
      "outputs": []
    },
    {
      "cell_type": "code",
      "metadata": {
        "id": "o0cG4SO7i9y1"
      },
      "source": [
        "txt_freq<-arrange(txt_freq,desc(freq))"
      ],
      "execution_count": 70,
      "outputs": []
    },
    {
      "cell_type": "code",
      "metadata": {
        "id": "uttgNZcqjLSr",
        "outputId": "b7a74123-a91d-4db7-9229-8f7e486a542f",
        "colab": {
          "base_uri": "https://localhost:8080/",
          "height": 221
        }
      },
      "source": [
        "head(txt_freq)"
      ],
      "execution_count": 71,
      "outputs": [
        {
          "output_type": "display_data",
          "data": {
            "text/plain": [
              "  char freq\n",
              "1 唬爛 12  \n",
              "2 問題  4  \n",
              "3 人    4  \n",
              "4 思考  3  \n",
              "5 人類  3  \n",
              "6 釐清  2  "
            ],
            "text/latex": "A data.frame: 6 × 2\n\\begin{tabular}{r|ll}\n  & char & freq\\\\\n  & <chr> & <dbl>\\\\\n\\hline\n\t1 & 唬爛 & 12\\\\\n\t2 & 問題 &  4\\\\\n\t3 & 人   &  4\\\\\n\t4 & 思考 &  3\\\\\n\t5 & 人類 &  3\\\\\n\t6 & 釐清 &  2\\\\\n\\end{tabular}\n",
            "text/markdown": "\nA data.frame: 6 × 2\n\n| <!--/--> | char &lt;chr&gt; | freq &lt;dbl&gt; |\n|---|---|---|\n| 1 | 唬爛 | 12 |\n| 2 | 問題 |  4 |\n| 3 | 人   |  4 |\n| 4 | 思考 |  3 |\n| 5 | 人類 |  3 |\n| 6 | 釐清 |  2 |\n\n",
            "text/html": [
              "<table>\n",
              "<caption>A data.frame: 6 × 2</caption>\n",
              "<thead>\n",
              "\t<tr><th></th><th scope=col>char</th><th scope=col>freq</th></tr>\n",
              "\t<tr><th></th><th scope=col>&lt;chr&gt;</th><th scope=col>&lt;dbl&gt;</th></tr>\n",
              "</thead>\n",
              "<tbody>\n",
              "\t<tr><th scope=row>1</th><td>唬爛</td><td>12</td></tr>\n",
              "\t<tr><th scope=row>2</th><td>問題</td><td> 4</td></tr>\n",
              "\t<tr><th scope=row>3</th><td>人  </td><td> 4</td></tr>\n",
              "\t<tr><th scope=row>4</th><td>思考</td><td> 3</td></tr>\n",
              "\t<tr><th scope=row>5</th><td>人類</td><td> 3</td></tr>\n",
              "\t<tr><th scope=row>6</th><td>釐清</td><td> 2</td></tr>\n",
              "</tbody>\n",
              "</table>\n"
            ]
          },
          "metadata": {
            "tags": []
          }
        }
      ]
    },
    {
      "cell_type": "code",
      "metadata": {
        "id": "i2cMbVdwjPfo"
      },
      "source": [
        "par(family=(\"Microsoft YaHei\"))"
      ],
      "execution_count": 72,
      "outputs": []
    },
    {
      "cell_type": "code",
      "metadata": {
        "id": "cmUg6V4Yjw0Z",
        "outputId": "3088179b-5660-4a3a-91c8-0f3d977720b1",
        "colab": {
          "base_uri": "https://localhost:8080/",
          "height": 437
        }
      },
      "source": [
        "wordcloud(txt_freq$char,txt_freq$freq,min.freq=2,random.order=F,\n",
        "ordered.colors=F,colors=rainbow(nrow(txt_freq)))"
      ],
      "execution_count": 73,
      "outputs": [
        {
          "output_type": "display_data",
          "data": {
            "image/png": "[encoded data removed]",
            "text/plain": [
              "plot without title"
            ]
          },
          "metadata": {
            "tags": [],
            "image/png": {
              "width": 420,
              "height": 420
            }
          }
        }
      ]
    }
  ]
}